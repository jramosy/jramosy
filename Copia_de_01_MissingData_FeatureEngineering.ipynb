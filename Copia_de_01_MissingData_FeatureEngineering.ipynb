{
  "cells": [
    {
      "cell_type": "markdown",
      "metadata": {
        "id": "view-in-github",
        "colab_type": "text"
      },
      "source": [
        "<a href=\"https://colab.research.google.com/github/jramosy/jramosy/blob/main/Copia_de_01_MissingData_FeatureEngineering.ipynb\" target=\"_parent\"><img src=\"https://colab.research.google.com/assets/colab-badge.svg\" alt=\"Open In Colab\"/></a>"
      ]
    },
    {
      "cell_type": "markdown",
      "metadata": {
        "id": "G_1P9jmTvqrP"
      },
      "source": [
        "<img src = \"https://github.com/barcelonagse-datascience/academic_files/raw/master/images/BSE_DSC_HEADER.jpg\">\n",
        "\n",
        "$\\newcommand{\\bb}{\\boldsymbol{\\beta}}$\n",
        "$\\DeclareMathOperator{\\Gau}{\\mathcal{N}}$\n",
        "$\\newcommand{\\bphi}{\\boldsymbol \\phi}$\n",
        "$\\newcommand{\\bx}{\\boldsymbol{x}}$\n",
        "$\\newcommand{\\by}{\\boldsymbol{y}}$\n",
        "$\\newcommand{\\bz}{\\boldsymbol{z}}$\n",
        "$\\newcommand{\\whbb}{\\widehat{\\bb}}$\n",
        "$\\newcommand{\\hf}{\\hat{f}}$\n",
        "$\\newcommand{\\tf}{\\tilde{f}}$\n",
        "$\\newcommand{\\ybar}{\\overline{y}}$\n",
        "$\\newcommand{\\E}{\\mathbb{E}}$\n",
        "$\\newcommand{\\Var}{Var}$\n",
        "$\\newcommand{\\Cov}{Cov}$\n",
        "$\\newcommand{\\Cor}{Cor}$"
      ]
    },
    {
      "cell_type": "markdown",
      "metadata": {
        "id": "_updu9F8vqrW"
      },
      "source": [
        "# Handling Missing Data\n",
        "\n",
        "Datasets in real life are rarely complete, so handling missing data is a common topic in data science.\n",
        "The way we handle such data may have a substantial effect on our results, so caution when dealing with NAs is advisable.\n",
        "\n",
        "After the computing bootcamp you are well familiar with the basics of `R`. Here we briefly introduce the most common ways to deal with missing data. It is important to know what happens behind the scenes before we rely on prediction methods that internally deal with missing data.\n",
        "\n",
        "Generally speaking, it is good practice to handle missing data ourselves before considering any model.\n"
      ]
    },
    {
      "cell_type": "code",
      "execution_count": 6,
      "metadata": {
        "id": "Qo1jj-vyvqrX",
        "colab": {
          "base_uri": "https://localhost:8080/"
        },
        "outputId": "160538c3-7021-4145-e083-d9aeedddc23a"
      },
      "outputs": [
        {
          "output_type": "stream",
          "name": "stderr",
          "text": [
            "\n",
            "Attaching package: ‘dplyr’\n",
            "\n",
            "\n",
            "The following objects are masked from ‘package:stats’:\n",
            "\n",
            "    filter, lag\n",
            "\n",
            "\n",
            "The following objects are masked from ‘package:base’:\n",
            "\n",
            "    intersect, setdiff, setequal, union\n",
            "\n",
            "\n"
          ]
        }
      ],
      "source": [
        "## Housekeeping\n",
        "rm(list = ls())\n",
        "## Libraries\n",
        "library(dplyr) # Dplyr is a part of the tidyverse\n",
        "library(repr) # repr helps us plotting nice graphs in jupyter"
      ]
    },
    {
      "cell_type": "code",
      "source": [
        "install.packages('dplyr')"
      ],
      "metadata": {
        "id": "aLV1K4xusid9"
      },
      "execution_count": null,
      "outputs": []
    },
    {
      "cell_type": "markdown",
      "metadata": {
        "id": "c3CU2kEivqrY"
      },
      "source": [
        "## Sample dataset\n",
        "We will use the Titanic passenger dataset as an illustration.\n",
        "\n",
        "Data comes from the open repository https://hbiostat.org/data/repo/titanic3.csv.\n",
        "Main features of 1309 passengers are:\n",
        "\n",
        " +   pclass: Passenger class (1 = 1st; 2 = 2nd; 3 = 3rd)\n",
        " +   survival: A Boolean indicating whether the passenger survived or not (0 = No; 1 = Yes)\n",
        " +   name: title and family names\n",
        " +   sex: male/female\n",
        " +   age: Age\n",
        " +   sibsp: Number of siblings/spouses aboard\n",
        " +   parch: Number of parents/children aboard\n",
        " +   ticket: Ticket number.\n",
        " +   fare: Passenger fare (British Pound).\n",
        " +   cabin: Location of the cabin\n",
        " +   embarked: Port of embarkation (C = Cherbourg; Q = Queenstown; S = Southampton)\n",
        " +   boat: Lifeboat\n",
        " +   body: Body Identification Number\n",
        " +   home.dest: Home/destination\n",
        "\n",
        "Suppose we are interested in predicting whether the passenger survived or not. It is important to stress that, for supervised learning, we will always assume that the **labels (or target variables) do not have missing values**. We only allow for missing values in the predictor variables."
      ]
    },
    {
      "cell_type": "code",
      "execution_count": 7,
      "metadata": {
        "colab": {
          "base_uri": "https://localhost:8080/",
          "height": 408
        },
        "id": "WN1ggeKnvqrZ",
        "outputId": "68433043-0b8d-47cf-c840-a57ee44e55f0"
      },
      "outputs": [
        {
          "output_type": "display_data",
          "data": {
            "text/html": [
              "<table class=\"dataframe\">\n",
              "<caption>A data.frame: 6 × 14</caption>\n",
              "<thead>\n",
              "\t<tr><th></th><th scope=col>pclass</th><th scope=col>survived</th><th scope=col>name</th><th scope=col>sex</th><th scope=col>age</th><th scope=col>sibsp</th><th scope=col>parch</th><th scope=col>ticket</th><th scope=col>fare</th><th scope=col>cabin</th><th scope=col>embarked</th><th scope=col>boat</th><th scope=col>body</th><th scope=col>home.dest</th></tr>\n",
              "\t<tr><th></th><th scope=col>&lt;int&gt;</th><th scope=col>&lt;int&gt;</th><th scope=col>&lt;chr&gt;</th><th scope=col>&lt;chr&gt;</th><th scope=col>&lt;dbl&gt;</th><th scope=col>&lt;int&gt;</th><th scope=col>&lt;int&gt;</th><th scope=col>&lt;chr&gt;</th><th scope=col>&lt;dbl&gt;</th><th scope=col>&lt;chr&gt;</th><th scope=col>&lt;chr&gt;</th><th scope=col>&lt;chr&gt;</th><th scope=col>&lt;int&gt;</th><th scope=col>&lt;chr&gt;</th></tr>\n",
              "</thead>\n",
              "<tbody>\n",
              "\t<tr><th scope=row>1</th><td>1</td><td>1</td><td>Allen, Miss. Elisabeth Walton                  </td><td>female</td><td>29.00</td><td>0</td><td>0</td><td>24160 </td><td>211.3375</td><td>B5     </td><td>S</td><td>2 </td><td> NA</td><td>St Louis, MO                   </td></tr>\n",
              "\t<tr><th scope=row>2</th><td>1</td><td>1</td><td>Allison, Master. Hudson Trevor                 </td><td>male  </td><td> 0.92</td><td>1</td><td>2</td><td>113781</td><td>151.5500</td><td>C22 C26</td><td>S</td><td>11</td><td> NA</td><td>Montreal, PQ / Chesterville, ON</td></tr>\n",
              "\t<tr><th scope=row>3</th><td>1</td><td>0</td><td>Allison, Miss. Helen Loraine                   </td><td>female</td><td> 2.00</td><td>1</td><td>2</td><td>113781</td><td>151.5500</td><td>C22 C26</td><td>S</td><td>  </td><td> NA</td><td>Montreal, PQ / Chesterville, ON</td></tr>\n",
              "\t<tr><th scope=row>4</th><td>1</td><td>0</td><td>Allison, Mr. Hudson Joshua Creighton           </td><td>male  </td><td>30.00</td><td>1</td><td>2</td><td>113781</td><td>151.5500</td><td>C22 C26</td><td>S</td><td>  </td><td>135</td><td>Montreal, PQ / Chesterville, ON</td></tr>\n",
              "\t<tr><th scope=row>5</th><td>1</td><td>0</td><td>Allison, Mrs. Hudson J C (Bessie Waldo Daniels)</td><td>female</td><td>25.00</td><td>1</td><td>2</td><td>113781</td><td>151.5500</td><td>C22 C26</td><td>S</td><td>  </td><td> NA</td><td>Montreal, PQ / Chesterville, ON</td></tr>\n",
              "\t<tr><th scope=row>6</th><td>1</td><td>1</td><td>Anderson, Mr. Harry                            </td><td>male  </td><td>48.00</td><td>0</td><td>0</td><td>19952 </td><td> 26.5500</td><td>E12    </td><td>S</td><td>3 </td><td> NA</td><td>New York, NY                   </td></tr>\n",
              "</tbody>\n",
              "</table>\n"
            ],
            "text/markdown": "\nA data.frame: 6 × 14\n\n| <!--/--> | pclass &lt;int&gt; | survived &lt;int&gt; | name &lt;chr&gt; | sex &lt;chr&gt; | age &lt;dbl&gt; | sibsp &lt;int&gt; | parch &lt;int&gt; | ticket &lt;chr&gt; | fare &lt;dbl&gt; | cabin &lt;chr&gt; | embarked &lt;chr&gt; | boat &lt;chr&gt; | body &lt;int&gt; | home.dest &lt;chr&gt; |\n|---|---|---|---|---|---|---|---|---|---|---|---|---|---|---|\n| 1 | 1 | 1 | Allen, Miss. Elisabeth Walton                   | female | 29.00 | 0 | 0 | 24160  | 211.3375 | B5      | S | 2  |  NA | St Louis, MO                    |\n| 2 | 1 | 1 | Allison, Master. Hudson Trevor                  | male   |  0.92 | 1 | 2 | 113781 | 151.5500 | C22 C26 | S | 11 |  NA | Montreal, PQ / Chesterville, ON |\n| 3 | 1 | 0 | Allison, Miss. Helen Loraine                    | female |  2.00 | 1 | 2 | 113781 | 151.5500 | C22 C26 | S | <!----> |  NA | Montreal, PQ / Chesterville, ON |\n| 4 | 1 | 0 | Allison, Mr. Hudson Joshua Creighton            | male   | 30.00 | 1 | 2 | 113781 | 151.5500 | C22 C26 | S | <!----> | 135 | Montreal, PQ / Chesterville, ON |\n| 5 | 1 | 0 | Allison, Mrs. Hudson J C (Bessie Waldo Daniels) | female | 25.00 | 1 | 2 | 113781 | 151.5500 | C22 C26 | S | <!----> |  NA | Montreal, PQ / Chesterville, ON |\n| 6 | 1 | 1 | Anderson, Mr. Harry                             | male   | 48.00 | 0 | 0 | 19952  |  26.5500 | E12     | S | 3  |  NA | New York, NY                    |\n\n",
            "text/latex": "A data.frame: 6 × 14\n\\begin{tabular}{r|llllllllllllll}\n  & pclass & survived & name & sex & age & sibsp & parch & ticket & fare & cabin & embarked & boat & body & home.dest\\\\\n  & <int> & <int> & <chr> & <chr> & <dbl> & <int> & <int> & <chr> & <dbl> & <chr> & <chr> & <chr> & <int> & <chr>\\\\\n\\hline\n\t1 & 1 & 1 & Allen, Miss. Elisabeth Walton                   & female & 29.00 & 0 & 0 & 24160  & 211.3375 & B5      & S & 2  &  NA & St Louis, MO                   \\\\\n\t2 & 1 & 1 & Allison, Master. Hudson Trevor                  & male   &  0.92 & 1 & 2 & 113781 & 151.5500 & C22 C26 & S & 11 &  NA & Montreal, PQ / Chesterville, ON\\\\\n\t3 & 1 & 0 & Allison, Miss. Helen Loraine                    & female &  2.00 & 1 & 2 & 113781 & 151.5500 & C22 C26 & S &    &  NA & Montreal, PQ / Chesterville, ON\\\\\n\t4 & 1 & 0 & Allison, Mr. Hudson Joshua Creighton            & male   & 30.00 & 1 & 2 & 113781 & 151.5500 & C22 C26 & S &    & 135 & Montreal, PQ / Chesterville, ON\\\\\n\t5 & 1 & 0 & Allison, Mrs. Hudson J C (Bessie Waldo Daniels) & female & 25.00 & 1 & 2 & 113781 & 151.5500 & C22 C26 & S &    &  NA & Montreal, PQ / Chesterville, ON\\\\\n\t6 & 1 & 1 & Anderson, Mr. Harry                             & male   & 48.00 & 0 & 0 & 19952  &  26.5500 & E12     & S & 3  &  NA & New York, NY                   \\\\\n\\end{tabular}\n",
            "text/plain": [
              "  pclass survived name                                            sex    age  \n",
              "1 1      1        Allen, Miss. Elisabeth Walton                   female 29.00\n",
              "2 1      1        Allison, Master. Hudson Trevor                  male    0.92\n",
              "3 1      0        Allison, Miss. Helen Loraine                    female  2.00\n",
              "4 1      0        Allison, Mr. Hudson Joshua Creighton            male   30.00\n",
              "5 1      0        Allison, Mrs. Hudson J C (Bessie Waldo Daniels) female 25.00\n",
              "6 1      1        Anderson, Mr. Harry                             male   48.00\n",
              "  sibsp parch ticket fare     cabin   embarked boat body\n",
              "1 0     0     24160  211.3375 B5      S        2     NA \n",
              "2 1     2     113781 151.5500 C22 C26 S        11    NA \n",
              "3 1     2     113781 151.5500 C22 C26 S              NA \n",
              "4 1     2     113781 151.5500 C22 C26 S             135 \n",
              "5 1     2     113781 151.5500 C22 C26 S              NA \n",
              "6 0     0     19952   26.5500 E12     S        3     NA \n",
              "  home.dest                      \n",
              "1 St Louis, MO                   \n",
              "2 Montreal, PQ / Chesterville, ON\n",
              "3 Montreal, PQ / Chesterville, ON\n",
              "4 Montreal, PQ / Chesterville, ON\n",
              "5 Montreal, PQ / Chesterville, ON\n",
              "6 New York, NY                   "
            ]
          },
          "metadata": {}
        },
        {
          "output_type": "display_data",
          "data": {
            "text/html": [
              "<style>\n",
              ".list-inline {list-style: none; margin:0; padding: 0}\n",
              ".list-inline>li {display: inline-block}\n",
              ".list-inline>li:not(:last-child)::after {content: \"\\00b7\"; padding: 0 .5ex}\n",
              "</style>\n",
              "<ol class=list-inline><li>1309</li><li>14</li></ol>\n"
            ],
            "text/markdown": "1. 1309\n2. 14\n\n\n",
            "text/latex": "\\begin{enumerate*}\n\\item 1309\n\\item 14\n\\end{enumerate*}\n",
            "text/plain": [
              "[1] 1309   14"
            ]
          },
          "metadata": {}
        },
        {
          "output_type": "display_data",
          "data": {
            "text/html": [
              "1309"
            ],
            "text/markdown": "1309",
            "text/latex": "1309",
            "text/plain": [
              "[1] 1309"
            ]
          },
          "metadata": {}
        },
        {
          "output_type": "display_data",
          "data": {
            "text/html": [
              "14"
            ],
            "text/markdown": "14",
            "text/latex": "14",
            "text/plain": [
              "[1] 14"
            ]
          },
          "metadata": {}
        }
      ],
      "source": [
        "# Read the dataset\n",
        "data <- read.csv(\"https://github.com/barcelonagse-datascience/academic_files/raw/master/data/titanic3.csv\",\n",
        " stringsAsFactors = FALSE) #does not convert strings into factors (categorical variables)\n",
        "head(data) # Print the first 5 observations\n",
        "dim(data) # What are the dimensions of our data?\n",
        "nrow(data) # Number of rows\n",
        "ncol(data) # Number of columns"
      ]
    },
    {
      "cell_type": "code",
      "source": [
        "tail(data)"
      ],
      "metadata": {
        "colab": {
          "base_uri": "https://localhost:8080/",
          "height": 286
        },
        "id": "8i2Y6ODAvmBe",
        "outputId": "d6a88acf-e99a-4ef3-b7b0-5781af7b3250"
      },
      "execution_count": 8,
      "outputs": [
        {
          "output_type": "display_data",
          "data": {
            "text/html": [
              "<table class=\"dataframe\">\n",
              "<caption>A data.frame: 6 × 14</caption>\n",
              "<thead>\n",
              "\t<tr><th></th><th scope=col>pclass</th><th scope=col>survived</th><th scope=col>name</th><th scope=col>sex</th><th scope=col>age</th><th scope=col>sibsp</th><th scope=col>parch</th><th scope=col>ticket</th><th scope=col>fare</th><th scope=col>cabin</th><th scope=col>embarked</th><th scope=col>boat</th><th scope=col>body</th><th scope=col>home.dest</th></tr>\n",
              "\t<tr><th></th><th scope=col>&lt;int&gt;</th><th scope=col>&lt;int&gt;</th><th scope=col>&lt;chr&gt;</th><th scope=col>&lt;chr&gt;</th><th scope=col>&lt;dbl&gt;</th><th scope=col>&lt;int&gt;</th><th scope=col>&lt;int&gt;</th><th scope=col>&lt;chr&gt;</th><th scope=col>&lt;dbl&gt;</th><th scope=col>&lt;chr&gt;</th><th scope=col>&lt;chr&gt;</th><th scope=col>&lt;chr&gt;</th><th scope=col>&lt;int&gt;</th><th scope=col>&lt;chr&gt;</th></tr>\n",
              "</thead>\n",
              "<tbody>\n",
              "\t<tr><th scope=row>1304</th><td>3</td><td>0</td><td>Yousseff, Mr. Gerious    </td><td>male  </td><td>  NA</td><td>0</td><td>0</td><td>2627  </td><td>14.4583</td><td></td><td>C</td><td></td><td> NA</td><td></td></tr>\n",
              "\t<tr><th scope=row>1305</th><td>3</td><td>0</td><td>Zabour, Miss. Hileni     </td><td>female</td><td>14.5</td><td>1</td><td>0</td><td>2665  </td><td>14.4542</td><td></td><td>C</td><td></td><td>328</td><td></td></tr>\n",
              "\t<tr><th scope=row>1306</th><td>3</td><td>0</td><td>Zabour, Miss. Thamine    </td><td>female</td><td>  NA</td><td>1</td><td>0</td><td>2665  </td><td>14.4542</td><td></td><td>C</td><td></td><td> NA</td><td></td></tr>\n",
              "\t<tr><th scope=row>1307</th><td>3</td><td>0</td><td>Zakarian, Mr. Mapriededer</td><td>male  </td><td>26.5</td><td>0</td><td>0</td><td>2656  </td><td> 7.2250</td><td></td><td>C</td><td></td><td>304</td><td></td></tr>\n",
              "\t<tr><th scope=row>1308</th><td>3</td><td>0</td><td>Zakarian, Mr. Ortin      </td><td>male  </td><td>27.0</td><td>0</td><td>0</td><td>2670  </td><td> 7.2250</td><td></td><td>C</td><td></td><td> NA</td><td></td></tr>\n",
              "\t<tr><th scope=row>1309</th><td>3</td><td>0</td><td>Zimmerman, Mr. Leo       </td><td>male  </td><td>29.0</td><td>0</td><td>0</td><td>315082</td><td> 7.8750</td><td></td><td>S</td><td></td><td> NA</td><td></td></tr>\n",
              "</tbody>\n",
              "</table>\n"
            ],
            "text/markdown": "\nA data.frame: 6 × 14\n\n| <!--/--> | pclass &lt;int&gt; | survived &lt;int&gt; | name &lt;chr&gt; | sex &lt;chr&gt; | age &lt;dbl&gt; | sibsp &lt;int&gt; | parch &lt;int&gt; | ticket &lt;chr&gt; | fare &lt;dbl&gt; | cabin &lt;chr&gt; | embarked &lt;chr&gt; | boat &lt;chr&gt; | body &lt;int&gt; | home.dest &lt;chr&gt; |\n|---|---|---|---|---|---|---|---|---|---|---|---|---|---|---|\n| 1304 | 3 | 0 | Yousseff, Mr. Gerious     | male   |   NA | 0 | 0 | 2627   | 14.4583 | <!----> | C | <!----> |  NA | <!----> |\n| 1305 | 3 | 0 | Zabour, Miss. Hileni      | female | 14.5 | 1 | 0 | 2665   | 14.4542 | <!----> | C | <!----> | 328 | <!----> |\n| 1306 | 3 | 0 | Zabour, Miss. Thamine     | female |   NA | 1 | 0 | 2665   | 14.4542 | <!----> | C | <!----> |  NA | <!----> |\n| 1307 | 3 | 0 | Zakarian, Mr. Mapriededer | male   | 26.5 | 0 | 0 | 2656   |  7.2250 | <!----> | C | <!----> | 304 | <!----> |\n| 1308 | 3 | 0 | Zakarian, Mr. Ortin       | male   | 27.0 | 0 | 0 | 2670   |  7.2250 | <!----> | C | <!----> |  NA | <!----> |\n| 1309 | 3 | 0 | Zimmerman, Mr. Leo        | male   | 29.0 | 0 | 0 | 315082 |  7.8750 | <!----> | S | <!----> |  NA | <!----> |\n\n",
            "text/latex": "A data.frame: 6 × 14\n\\begin{tabular}{r|llllllllllllll}\n  & pclass & survived & name & sex & age & sibsp & parch & ticket & fare & cabin & embarked & boat & body & home.dest\\\\\n  & <int> & <int> & <chr> & <chr> & <dbl> & <int> & <int> & <chr> & <dbl> & <chr> & <chr> & <chr> & <int> & <chr>\\\\\n\\hline\n\t1304 & 3 & 0 & Yousseff, Mr. Gerious     & male   &   NA & 0 & 0 & 2627   & 14.4583 &  & C &  &  NA & \\\\\n\t1305 & 3 & 0 & Zabour, Miss. Hileni      & female & 14.5 & 1 & 0 & 2665   & 14.4542 &  & C &  & 328 & \\\\\n\t1306 & 3 & 0 & Zabour, Miss. Thamine     & female &   NA & 1 & 0 & 2665   & 14.4542 &  & C &  &  NA & \\\\\n\t1307 & 3 & 0 & Zakarian, Mr. Mapriededer & male   & 26.5 & 0 & 0 & 2656   &  7.2250 &  & C &  & 304 & \\\\\n\t1308 & 3 & 0 & Zakarian, Mr. Ortin       & male   & 27.0 & 0 & 0 & 2670   &  7.2250 &  & C &  &  NA & \\\\\n\t1309 & 3 & 0 & Zimmerman, Mr. Leo        & male   & 29.0 & 0 & 0 & 315082 &  7.8750 &  & S &  &  NA & \\\\\n\\end{tabular}\n",
            "text/plain": [
              "     pclass survived name                      sex    age  sibsp parch ticket\n",
              "1304 3      0        Yousseff, Mr. Gerious     male     NA 0     0     2627  \n",
              "1305 3      0        Zabour, Miss. Hileni      female 14.5 1     0     2665  \n",
              "1306 3      0        Zabour, Miss. Thamine     female   NA 1     0     2665  \n",
              "1307 3      0        Zakarian, Mr. Mapriededer male   26.5 0     0     2656  \n",
              "1308 3      0        Zakarian, Mr. Ortin       male   27.0 0     0     2670  \n",
              "1309 3      0        Zimmerman, Mr. Leo        male   29.0 0     0     315082\n",
              "     fare    cabin embarked boat body home.dest\n",
              "1304 14.4583       C              NA           \n",
              "1305 14.4542       C             328           \n",
              "1306 14.4542       C              NA           \n",
              "1307  7.2250       C             304           \n",
              "1308  7.2250       C              NA           \n",
              "1309  7.8750       S              NA           "
            ]
          },
          "metadata": {}
        }
      ]
    },
    {
      "cell_type": "markdown",
      "metadata": {
        "id": "tXiDsp63hhmY"
      },
      "source": [
        "#### A word of caution\n",
        "It is important to think carefully about missing data. Sometimes they may just be data which is randomly missing, in which case we would like to replace them with some values that preserve the structure of the data. Alternatively, the missing data may have some particular meaning. In our dataset, for instance, the feature _body_ of survivors is missing: they survived!"
      ]
    },
    {
      "cell_type": "code",
      "source": [
        "colnames(data)"
      ],
      "metadata": {
        "colab": {
          "base_uri": "https://localhost:8080/",
          "height": 34
        },
        "id": "gyt0P-7Bw_fN",
        "outputId": "ea6a950f-88a8-4d42-d570-2b9dc29bbb05"
      },
      "execution_count": 9,
      "outputs": [
        {
          "output_type": "display_data",
          "data": {
            "text/html": [
              "<style>\n",
              ".list-inline {list-style: none; margin:0; padding: 0}\n",
              ".list-inline>li {display: inline-block}\n",
              ".list-inline>li:not(:last-child)::after {content: \"\\00b7\"; padding: 0 .5ex}\n",
              "</style>\n",
              "<ol class=list-inline><li>'pclass'</li><li>'survived'</li><li>'name'</li><li>'sex'</li><li>'age'</li><li>'sibsp'</li><li>'parch'</li><li>'ticket'</li><li>'fare'</li><li>'cabin'</li><li>'embarked'</li><li>'boat'</li><li>'body'</li><li>'home.dest'</li></ol>\n"
            ],
            "text/markdown": "1. 'pclass'\n2. 'survived'\n3. 'name'\n4. 'sex'\n5. 'age'\n6. 'sibsp'\n7. 'parch'\n8. 'ticket'\n9. 'fare'\n10. 'cabin'\n11. 'embarked'\n12. 'boat'\n13. 'body'\n14. 'home.dest'\n\n\n",
            "text/latex": "\\begin{enumerate*}\n\\item 'pclass'\n\\item 'survived'\n\\item 'name'\n\\item 'sex'\n\\item 'age'\n\\item 'sibsp'\n\\item 'parch'\n\\item 'ticket'\n\\item 'fare'\n\\item 'cabin'\n\\item 'embarked'\n\\item 'boat'\n\\item 'body'\n\\item 'home.dest'\n\\end{enumerate*}\n",
            "text/plain": [
              " [1] \"pclass\"    \"survived\"  \"name\"      \"sex\"       \"age\"       \"sibsp\"    \n",
              " [7] \"parch\"     \"ticket\"    \"fare\"      \"cabin\"     \"embarked\"  \"boat\"     \n",
              "[13] \"body\"      \"home.dest\""
            ]
          },
          "metadata": {}
        }
      ]
    },
    {
      "cell_type": "code",
      "source": [
        "!(c('andre','joan') %in% c('mark','john','joan'))"
      ],
      "metadata": {
        "colab": {
          "base_uri": "https://localhost:8080/",
          "height": 34
        },
        "id": "pF4485stxUHS",
        "outputId": "ee020df4-5033-4d25-d198-ff4bedcecc2e"
      },
      "execution_count": 10,
      "outputs": [
        {
          "output_type": "display_data",
          "data": {
            "text/html": [
              "<style>\n",
              ".list-inline {list-style: none; margin:0; padding: 0}\n",
              ".list-inline>li {display: inline-block}\n",
              ".list-inline>li:not(:last-child)::after {content: \"\\00b7\"; padding: 0 .5ex}\n",
              "</style>\n",
              "<ol class=list-inline><li>TRUE</li><li>FALSE</li></ol>\n"
            ],
            "text/markdown": "1. TRUE\n2. FALSE\n\n\n",
            "text/latex": "\\begin{enumerate*}\n\\item TRUE\n\\item FALSE\n\\end{enumerate*}\n",
            "text/plain": [
              "[1]  TRUE FALSE"
            ]
          },
          "metadata": {}
        }
      ]
    },
    {
      "cell_type": "code",
      "execution_count": 11,
      "metadata": {
        "colab": {
          "base_uri": "https://localhost:8080/",
          "height": 429
        },
        "id": "3LGMAo9Yvqra",
        "outputId": "1fa8b993-0ee5-4a3e-dde3-e2068d00ad64"
      },
      "outputs": [
        {
          "output_type": "display_data",
          "data": {
            "text/html": [
              "<style>\n",
              ".list-inline {list-style: none; margin:0; padding: 0}\n",
              ".list-inline>li {display: inline-block}\n",
              ".list-inline>li:not(:last-child)::after {content: \"\\00b7\"; padding: 0 .5ex}\n",
              "</style>\n",
              "<ol class=list-inline><li>'pclass'</li><li>'survived'</li><li>'sex'</li><li>'age'</li><li>'sibsp'</li><li>'parch'</li><li>'fare'</li></ol>\n"
            ],
            "text/markdown": "1. 'pclass'\n2. 'survived'\n3. 'sex'\n4. 'age'\n5. 'sibsp'\n6. 'parch'\n7. 'fare'\n\n\n",
            "text/latex": "\\begin{enumerate*}\n\\item 'pclass'\n\\item 'survived'\n\\item 'sex'\n\\item 'age'\n\\item 'sibsp'\n\\item 'parch'\n\\item 'fare'\n\\end{enumerate*}\n",
            "text/plain": [
              "[1] \"pclass\"   \"survived\" \"sex\"      \"age\"      \"sibsp\"    \"parch\"    \"fare\"    "
            ]
          },
          "metadata": {}
        },
        {
          "output_type": "display_data",
          "data": {
            "text/html": [
              "<table class=\"dataframe\">\n",
              "<caption>A data.frame: 10 × 7</caption>\n",
              "<thead>\n",
              "\t<tr><th></th><th scope=col>pclass</th><th scope=col>survived</th><th scope=col>sex</th><th scope=col>age</th><th scope=col>sibsp</th><th scope=col>parch</th><th scope=col>fare</th></tr>\n",
              "\t<tr><th></th><th scope=col>&lt;int&gt;</th><th scope=col>&lt;int&gt;</th><th scope=col>&lt;chr&gt;</th><th scope=col>&lt;dbl&gt;</th><th scope=col>&lt;int&gt;</th><th scope=col>&lt;int&gt;</th><th scope=col>&lt;dbl&gt;</th></tr>\n",
              "</thead>\n",
              "<tbody>\n",
              "\t<tr><th scope=row>1</th><td>1</td><td>1</td><td>female</td><td>29.00</td><td>0</td><td>0</td><td>211.3375</td></tr>\n",
              "\t<tr><th scope=row>2</th><td>1</td><td>1</td><td>male  </td><td> 0.92</td><td>1</td><td>2</td><td>151.5500</td></tr>\n",
              "\t<tr><th scope=row>3</th><td>1</td><td>0</td><td>female</td><td> 2.00</td><td>1</td><td>2</td><td>151.5500</td></tr>\n",
              "\t<tr><th scope=row>4</th><td>1</td><td>0</td><td>male  </td><td>30.00</td><td>1</td><td>2</td><td>151.5500</td></tr>\n",
              "\t<tr><th scope=row>5</th><td>1</td><td>0</td><td>female</td><td>25.00</td><td>1</td><td>2</td><td>151.5500</td></tr>\n",
              "\t<tr><th scope=row>6</th><td>1</td><td>1</td><td>male  </td><td>48.00</td><td>0</td><td>0</td><td> 26.5500</td></tr>\n",
              "\t<tr><th scope=row>7</th><td>1</td><td>1</td><td>female</td><td>63.00</td><td>1</td><td>0</td><td> 77.9583</td></tr>\n",
              "\t<tr><th scope=row>8</th><td>1</td><td>0</td><td>male  </td><td>39.00</td><td>0</td><td>0</td><td>  0.0000</td></tr>\n",
              "\t<tr><th scope=row>9</th><td>1</td><td>1</td><td>female</td><td>53.00</td><td>2</td><td>0</td><td> 51.4792</td></tr>\n",
              "\t<tr><th scope=row>10</th><td>1</td><td>0</td><td>male  </td><td>71.00</td><td>0</td><td>0</td><td> 49.5042</td></tr>\n",
              "</tbody>\n",
              "</table>\n"
            ],
            "text/markdown": "\nA data.frame: 10 × 7\n\n| <!--/--> | pclass &lt;int&gt; | survived &lt;int&gt; | sex &lt;chr&gt; | age &lt;dbl&gt; | sibsp &lt;int&gt; | parch &lt;int&gt; | fare &lt;dbl&gt; |\n|---|---|---|---|---|---|---|---|\n| 1 | 1 | 1 | female | 29.00 | 0 | 0 | 211.3375 |\n| 2 | 1 | 1 | male   |  0.92 | 1 | 2 | 151.5500 |\n| 3 | 1 | 0 | female |  2.00 | 1 | 2 | 151.5500 |\n| 4 | 1 | 0 | male   | 30.00 | 1 | 2 | 151.5500 |\n| 5 | 1 | 0 | female | 25.00 | 1 | 2 | 151.5500 |\n| 6 | 1 | 1 | male   | 48.00 | 0 | 0 |  26.5500 |\n| 7 | 1 | 1 | female | 63.00 | 1 | 0 |  77.9583 |\n| 8 | 1 | 0 | male   | 39.00 | 0 | 0 |   0.0000 |\n| 9 | 1 | 1 | female | 53.00 | 2 | 0 |  51.4792 |\n| 10 | 1 | 0 | male   | 71.00 | 0 | 0 |  49.5042 |\n\n",
            "text/latex": "A data.frame: 10 × 7\n\\begin{tabular}{r|lllllll}\n  & pclass & survived & sex & age & sibsp & parch & fare\\\\\n  & <int> & <int> & <chr> & <dbl> & <int> & <int> & <dbl>\\\\\n\\hline\n\t1 & 1 & 1 & female & 29.00 & 0 & 0 & 211.3375\\\\\n\t2 & 1 & 1 & male   &  0.92 & 1 & 2 & 151.5500\\\\\n\t3 & 1 & 0 & female &  2.00 & 1 & 2 & 151.5500\\\\\n\t4 & 1 & 0 & male   & 30.00 & 1 & 2 & 151.5500\\\\\n\t5 & 1 & 0 & female & 25.00 & 1 & 2 & 151.5500\\\\\n\t6 & 1 & 1 & male   & 48.00 & 0 & 0 &  26.5500\\\\\n\t7 & 1 & 1 & female & 63.00 & 1 & 0 &  77.9583\\\\\n\t8 & 1 & 0 & male   & 39.00 & 0 & 0 &   0.0000\\\\\n\t9 & 1 & 1 & female & 53.00 & 2 & 0 &  51.4792\\\\\n\t10 & 1 & 0 & male   & 71.00 & 0 & 0 &  49.5042\\\\\n\\end{tabular}\n",
            "text/plain": [
              "   pclass survived sex    age   sibsp parch fare    \n",
              "1  1      1        female 29.00 0     0     211.3375\n",
              "2  1      1        male    0.92 1     2     151.5500\n",
              "3  1      0        female  2.00 1     2     151.5500\n",
              "4  1      0        male   30.00 1     2     151.5500\n",
              "5  1      0        female 25.00 1     2     151.5500\n",
              "6  1      1        male   48.00 0     0      26.5500\n",
              "7  1      1        female 63.00 1     0      77.9583\n",
              "8  1      0        male   39.00 0     0       0.0000\n",
              "9  1      1        female 53.00 2     0      51.4792\n",
              "10 1      0        male   71.00 0     0      49.5042"
            ]
          },
          "metadata": {}
        }
      ],
      "source": [
        "# Just for simplicity, drop some non-binary categorical variables and id vars\n",
        "drop <- c(\"name\", \"body\", \"ticket\", \"embarked\", \"home.dest\", \"boat\",\"cabin\")\n",
        "data <- data[, !(colnames(data) %in% drop)]\n",
        "colnames(data)\n",
        "head(data,10)"
      ]
    },
    {
      "cell_type": "markdown",
      "metadata": {
        "id": "T_nkdpVprQzt"
      },
      "source": [
        "We can then compute the number (or percentage of) NA for each feature:"
      ]
    },
    {
      "cell_type": "code",
      "source": [
        "sum(is.na(data))"
      ],
      "metadata": {
        "colab": {
          "base_uri": "https://localhost:8080/",
          "height": 34
        },
        "id": "75L57ezsyFyl",
        "outputId": "42ff6eaf-bd5a-426f-a22d-320fb6a5cdc7"
      },
      "execution_count": 12,
      "outputs": [
        {
          "output_type": "display_data",
          "data": {
            "text/html": [
              "264"
            ],
            "text/markdown": "264",
            "text/latex": "264",
            "text/plain": [
              "[1] 264"
            ]
          },
          "metadata": {}
        }
      ]
    },
    {
      "cell_type": "code",
      "execution_count": 13,
      "metadata": {
        "id": "rDvt8ZUzsDnl",
        "colab": {
          "base_uri": "https://localhost:8080/",
          "height": 34
        },
        "outputId": "c384a745-b1d7-40eb-f843-272d9890ee38"
      },
      "outputs": [
        {
          "output_type": "display_data",
          "data": {
            "text/html": [
              "<style>\n",
              ".dl-inline {width: auto; margin:0; padding: 0}\n",
              ".dl-inline>dt, .dl-inline>dd {float: none; width: auto; display: inline-block}\n",
              ".dl-inline>dt::after {content: \":\\0020\"; padding-right: .5ex}\n",
              ".dl-inline>dt:not(:first-of-type) {padding-left: .5ex}\n",
              "</style><dl class=dl-inline><dt>pclass</dt><dd>0</dd><dt>survived</dt><dd>0</dd><dt>sex</dt><dd>0</dd><dt>age</dt><dd>20.0916730328495</dd><dt>sibsp</dt><dd>0</dd><dt>parch</dt><dd>0</dd><dt>fare</dt><dd>0.0763941940412529</dd></dl>\n"
            ],
            "text/markdown": "pclass\n:   0survived\n:   0sex\n:   0age\n:   20.0916730328495sibsp\n:   0parch\n:   0fare\n:   0.0763941940412529\n\n",
            "text/latex": "\\begin{description*}\n\\item[pclass] 0\n\\item[survived] 0\n\\item[sex] 0\n\\item[age] 20.0916730328495\n\\item[sibsp] 0\n\\item[parch] 0\n\\item[fare] 0.0763941940412529\n\\end{description*}\n",
            "text/plain": [
              "     pclass    survived         sex         age       sibsp       parch \n",
              " 0.00000000  0.00000000  0.00000000 20.09167303  0.00000000  0.00000000 \n",
              "       fare \n",
              " 0.07639419 "
            ]
          },
          "metadata": {}
        }
      ],
      "source": [
        "na_cols <- colMeans(is.na(data)) * 100 # times 100 to get percentage\n",
        "na_cols"
      ]
    },
    {
      "cell_type": "markdown",
      "metadata": {
        "id": "5b2fVp06rQzv"
      },
      "source": [
        "And plot it, if we want."
      ]
    },
    {
      "cell_type": "code",
      "execution_count": null,
      "metadata": {
        "colab": {
          "base_uri": "https://localhost:8080/",
          "height": 437
        },
        "id": "knPhBYzHvqrb",
        "outputId": "99a425cc-d4e7-4c49-c6ea-7491d69e3005"
      },
      "outputs": [
        {
          "output_type": "display_data",
          "data": {
            "text/plain": [
              "Plot with title “NAs per feature”"
            ],
            "image/png": "[encoded data removed]"
          },
          "metadata": {
            "image/png": {
              "width": 420,
              "height": 420
            }
          }
        }
      ],
      "source": [
        "barplot(sort(na_cols, decreasing = TRUE),\n",
        "  ylim = c(0, 23),\n",
        "  main = \"NAs per feature\"\n",
        ")\n",
        "box()\n",
        "grid()"
      ]
    },
    {
      "cell_type": "markdown",
      "metadata": {
        "id": "NjKE2F1hrQzw"
      },
      "source": [
        "Lets get the names of features with missing observations."
      ]
    },
    {
      "cell_type": "code",
      "source": [
        "na_cols"
      ],
      "metadata": {
        "colab": {
          "base_uri": "https://localhost:8080/",
          "height": 34
        },
        "id": "nPnUedLqzKH8",
        "outputId": "7062760e-7514-4a85-ec35-ec95a86a8993"
      },
      "execution_count": 14,
      "outputs": [
        {
          "output_type": "display_data",
          "data": {
            "text/html": [
              "<style>\n",
              ".dl-inline {width: auto; margin:0; padding: 0}\n",
              ".dl-inline>dt, .dl-inline>dd {float: none; width: auto; display: inline-block}\n",
              ".dl-inline>dt::after {content: \":\\0020\"; padding-right: .5ex}\n",
              ".dl-inline>dt:not(:first-of-type) {padding-left: .5ex}\n",
              "</style><dl class=dl-inline><dt>pclass</dt><dd>0</dd><dt>survived</dt><dd>0</dd><dt>sex</dt><dd>0</dd><dt>age</dt><dd>20.0916730328495</dd><dt>sibsp</dt><dd>0</dd><dt>parch</dt><dd>0</dd><dt>fare</dt><dd>0.0763941940412529</dd></dl>\n"
            ],
            "text/markdown": "pclass\n:   0survived\n:   0sex\n:   0age\n:   20.0916730328495sibsp\n:   0parch\n:   0fare\n:   0.0763941940412529\n\n",
            "text/latex": "\\begin{description*}\n\\item[pclass] 0\n\\item[survived] 0\n\\item[sex] 0\n\\item[age] 20.0916730328495\n\\item[sibsp] 0\n\\item[parch] 0\n\\item[fare] 0.0763941940412529\n\\end{description*}\n",
            "text/plain": [
              "     pclass    survived         sex         age       sibsp       parch \n",
              " 0.00000000  0.00000000  0.00000000 20.09167303  0.00000000  0.00000000 \n",
              "       fare \n",
              " 0.07639419 "
            ]
          },
          "metadata": {}
        }
      ]
    },
    {
      "cell_type": "code",
      "execution_count": 15,
      "metadata": {
        "colab": {
          "base_uri": "https://localhost:8080/",
          "height": 34
        },
        "id": "K0y3BKIpvqrb",
        "outputId": "a81ec371-4253-4e5e-a57a-3e1ee81b2176"
      },
      "outputs": [
        {
          "output_type": "display_data",
          "data": {
            "text/html": [
              "<style>\n",
              ".dl-inline {width: auto; margin:0; padding: 0}\n",
              ".dl-inline>dt, .dl-inline>dd {float: none; width: auto; display: inline-block}\n",
              ".dl-inline>dt::after {content: \":\\0020\"; padding-right: .5ex}\n",
              ".dl-inline>dt:not(:first-of-type) {padding-left: .5ex}\n",
              "</style><dl class=dl-inline><dt>age</dt><dd>20.0916730328495</dd><dt>fare</dt><dd>0.0763941940412529</dd></dl>\n"
            ],
            "text/markdown": "age\n:   20.0916730328495fare\n:   0.0763941940412529\n\n",
            "text/latex": "\\begin{description*}\n\\item[age] 20.0916730328495\n\\item[fare] 0.0763941940412529\n\\end{description*}\n",
            "text/plain": [
              "        age        fare \n",
              "20.09167303  0.07639419 "
            ]
          },
          "metadata": {}
        }
      ],
      "source": [
        "na_cols[na_cols>0]"
      ]
    },
    {
      "cell_type": "markdown",
      "metadata": {
        "id": "2qcBjcF5vqrc"
      },
      "source": [
        "We see that both _age_ and _fare_  have missing values.\n",
        "\n",
        "If our objective is to predict titanic survivors, and we believe that _age_ and _fare_ are helpful in predicting survivors, we need to deal with these missing values.\n",
        "\n",
        "## Simple imputation methods\n",
        "\n",
        "### Remove empty columns/rows\n",
        "We could just remove the rows or columns that have a missing value. Suppose first we decide to delete columns with missing values."
      ]
    },
    {
      "cell_type": "code",
      "execution_count": 16,
      "metadata": {
        "id": "krOUEQSjhhma",
        "colab": {
          "base_uri": "https://localhost:8080/",
          "height": 34
        },
        "outputId": "92efa3fc-833d-4b28-a894-dda5f5ad48c4"
      },
      "outputs": [
        {
          "output_type": "display_data",
          "data": {
            "text/html": [
              "<style>\n",
              ".list-inline {list-style: none; margin:0; padding: 0}\n",
              ".list-inline>li {display: inline-block}\n",
              ".list-inline>li:not(:last-child)::after {content: \"\\00b7\"; padding: 0 .5ex}\n",
              "</style>\n",
              "<ol class=list-inline><li>'pclass'</li><li>'survived'</li><li>'sex'</li><li>'sibsp'</li><li>'parch'</li></ol>\n"
            ],
            "text/markdown": "1. 'pclass'\n2. 'survived'\n3. 'sex'\n4. 'sibsp'\n5. 'parch'\n\n\n",
            "text/latex": "\\begin{enumerate*}\n\\item 'pclass'\n\\item 'survived'\n\\item 'sex'\n\\item 'sibsp'\n\\item 'parch'\n\\end{enumerate*}\n",
            "text/plain": [
              "[1] \"pclass\"   \"survived\" \"sex\"      \"sibsp\"    \"parch\"   "
            ]
          },
          "metadata": {}
        }
      ],
      "source": [
        "# A drastic approach: Remove columns with any NAs\n",
        "data_nona <- data[, na_cols == 0]\n",
        "colnames(data_nona)"
      ]
    },
    {
      "cell_type": "markdown",
      "metadata": {
        "id": "ixe7lCx3rQzx"
      },
      "source": [
        "We can verify that we got rid of all NAs:"
      ]
    },
    {
      "cell_type": "code",
      "execution_count": 17,
      "metadata": {
        "id": "HKvrx4burQzx",
        "colab": {
          "base_uri": "https://localhost:8080/",
          "height": 34
        },
        "outputId": "ecc104c5-580b-421d-9947-08a40babcbb1"
      },
      "outputs": [
        {
          "output_type": "display_data",
          "data": {
            "text/html": [
              "0"
            ],
            "text/markdown": "0",
            "text/latex": "0",
            "text/plain": [
              "[1] 0"
            ]
          },
          "metadata": {}
        }
      ],
      "source": [
        "sum(is.na(data_nona))"
      ]
    },
    {
      "cell_type": "markdown",
      "metadata": {
        "id": "hmzBpuitrQzy"
      },
      "source": [
        "And check the new dimensions of our data:"
      ]
    },
    {
      "cell_type": "code",
      "execution_count": null,
      "metadata": {
        "id": "tzjMCrs9uET_"
      },
      "outputs": [],
      "source": [
        "dim(data_nona)"
      ]
    },
    {
      "cell_type": "markdown",
      "metadata": {
        "id": "Gn9gfBdFhhma"
      },
      "source": [
        "We have dealt with the NAS by removing the columns that had any NAs. But this may cost us a lot. In particular, we can no longer use the information in _age_ and _fare_ to predict _survived_. That may not be a good idea:"
      ]
    },
    {
      "cell_type": "code",
      "execution_count": null,
      "metadata": {
        "colab": {
          "base_uri": "https://localhost:8080/",
          "height": 34
        },
        "id": "bQon0jQyhhmb",
        "outputId": "fc2f6253-2b51-406b-bd48-fbfd90747b0f"
      },
      "outputs": [
        {
          "output_type": "display_data",
          "data": {
            "text/html": [
              "0.244"
            ],
            "text/markdown": "0.244",
            "text/latex": "0.244",
            "text/plain": [
              "[1] 0.244"
            ]
          },
          "metadata": {}
        }
      ],
      "source": [
        "round(cor(data$survived, data$fare, use = \"pairwise.complete.obs\"), 3)"
      ]
    },
    {
      "cell_type": "markdown",
      "metadata": {
        "id": "xYZe6WokrQzz"
      },
      "source": [
        "The correlation between _survival_ and _fare_ is not negligible, so we may be throwing away useful information. Moreover:"
      ]
    },
    {
      "cell_type": "code",
      "execution_count": null,
      "metadata": {
        "colab": {
          "base_uri": "https://localhost:8080/",
          "height": 34
        },
        "id": "7sAJZyFhANeO",
        "outputId": "a8016b2b-5618-417e-af2f-b5c00d399229"
      },
      "outputs": [
        {
          "output_type": "display_data",
          "data": {
            "text/html": [
              "<style>\n",
              ".dl-inline {width: auto; margin:0; padding: 0}\n",
              ".dl-inline>dt, .dl-inline>dd {float: none; width: auto; display: inline-block}\n",
              ".dl-inline>dt::after {content: \":\\0020\"; padding-right: .5ex}\n",
              ".dl-inline>dt:not(:first-of-type) {padding-left: .5ex}\n",
              "</style><dl class=dl-inline><dt>Survivals</dt><dd>49.3611836</dd><dt>Deaths</dt><dd>23.3538305693069</dd></dl>\n"
            ],
            "text/markdown": "Survivals\n:   49.3611836Deaths\n:   23.3538305693069\n\n",
            "text/latex": "\\begin{description*}\n\\item[Survivals] 49.3611836\n\\item[Deaths] 23.3538305693069\n\\end{description*}\n",
            "text/plain": [
              "Survivals    Deaths \n",
              " 49.36118  23.35383 "
            ]
          },
          "metadata": {}
        }
      ],
      "source": [
        "c(\n",
        "  \"Survivals\" = mean(data$fare[data$survived == 1]),\n",
        "  \"Deaths\"    = mean(data$fare[data$survived == 0], na.rm = TRUE)\n",
        ")"
      ]
    },
    {
      "cell_type": "markdown",
      "metadata": {
        "id": "pQXmp98DrQz0"
      },
      "source": [
        "The average fare for survivors seems much higher than that of deaths. This is also indicative."
      ]
    },
    {
      "cell_type": "code",
      "execution_count": null,
      "metadata": {
        "colab": {
          "base_uri": "https://localhost:8080/",
          "height": 34
        },
        "id": "1zl5jFEVAQUr",
        "outputId": "ae6725f2-3cd3-4c38-bd77-63213409c5c5"
      },
      "outputs": [
        {
          "output_type": "display_data",
          "data": {
            "text/html": [
              "<style>\n",
              ".dl-inline {width: auto; margin:0; padding: 0}\n",
              ".dl-inline>dt, .dl-inline>dd {float: none; width: auto; display: inline-block}\n",
              ".dl-inline>dt::after {content: \":\\0020\"; padding-right: .5ex}\n",
              ".dl-inline>dt:not(:first-of-type) {padding-left: .5ex}\n",
              "</style><dl class=dl-inline><dt>Survivals</dt><dd>49.2227979274611</dd><dt>Deaths</dt><dd>38.9214536928488</dd></dl>\n"
            ],
            "text/markdown": "Survivals\n:   49.2227979274611Deaths\n:   38.9214536928488\n\n",
            "text/latex": "\\begin{description*}\n\\item[Survivals] 49.2227979274611\n\\item[Deaths] 38.9214536928488\n\\end{description*}\n",
            "text/plain": [
              "Survivals    Deaths \n",
              " 49.22280  38.92145 "
            ]
          },
          "metadata": {}
        }
      ],
      "source": [
        "# also\n",
        "data$children <- data$age <= 18\n",
        "c(\n",
        "  \"Child Survivor\" = mean(data$survived[data$children == 1], na.rm = TRUE)*100,\n",
        "  \"Adult Survivor\" = mean(data$survived[data$children == 0], na.rm = TRUE)*100\n",
        ")\n"
      ]
    },
    {
      "cell_type": "markdown",
      "metadata": {
        "id": "x-xm571shhmb"
      },
      "source": [
        "In addition to that, children also were more likely to survive than adults, so we also would like to keep _age_ as a predictor"
      ]
    },
    {
      "cell_type": "markdown",
      "metadata": {
        "id": "NDx3aStYvqrf"
      },
      "source": [
        "An alternative to completely removing columns with some missing data is to remove rows with missing data.\n",
        "\n",
        "Clearly, this may cost us observations, so a better strategy is to *mix* both column and row deletion:\n",
        "\n",
        "1. Remove columns (features) with high percentage of missing data;\n",
        "2. Then, for the remaining dataset, remove rows with missing data\n"
      ]
    },
    {
      "cell_type": "code",
      "execution_count": null,
      "metadata": {
        "id": "X2J6TzokrQz1"
      },
      "outputs": [],
      "source": [
        "data_nona <- data[, na_cols < 20] # First remove features\n",
        "dim(data_nona)"
      ]
    },
    {
      "cell_type": "code",
      "execution_count": null,
      "metadata": {
        "id": "b-nzB0FurQz1"
      },
      "outputs": [],
      "source": [
        "data_nona <- data_nona[rowSums(is.na(data_nona)) == 0, ] # Then, remove rows\n",
        "sum(is.na(data_nona))"
      ]
    },
    {
      "cell_type": "markdown",
      "metadata": {
        "id": "OMsQI5a_rQz2"
      },
      "source": [
        "Now we have a bit less observations, but we kept information on age and fare. There are of course other possibilities that are useful in different settings.\n"
      ]
    },
    {
      "cell_type": "markdown",
      "metadata": {
        "id": "TPBmFT3Cvqrk"
      },
      "source": [
        "### Replace by statistics (mean/median/mode)\n",
        "\n",
        "One strategy that is typically used is to replace missing data by unconditional statistics obtained over the whole sample:\n",
        "- *Mean* for numerical features where ouliers are not significant;\n",
        "- *Median* for numerical features where outliers clearly affect the mean;\n",
        "- *Mode* for categorical features;\n"
      ]
    },
    {
      "cell_type": "code",
      "source": [
        "mean(data$age, na.rm=TRUE)"
      ],
      "metadata": {
        "colab": {
          "base_uri": "https://localhost:8080/",
          "height": 34
        },
        "id": "suj64rbh1p1L",
        "outputId": "6320e1eb-d4a6-419a-d607-369ee7c18022"
      },
      "execution_count": null,
      "outputs": [
        {
          "output_type": "display_data",
          "data": {
            "text/html": [
              "29.881137667304"
            ],
            "text/markdown": "29.881137667304",
            "text/latex": "29.881137667304",
            "text/plain": [
              "[1] 29.88114"
            ]
          },
          "metadata": {}
        }
      ]
    },
    {
      "cell_type": "code",
      "execution_count": null,
      "metadata": {
        "id": "mcWTNCDVIEhX"
      },
      "outputs": [],
      "source": [
        "data$age_filled <- data$age\n",
        "data$age_filled[is.na(data$age_filled)]  <- mean(data$age, na.rm=TRUE)"
      ]
    },
    {
      "cell_type": "code",
      "execution_count": null,
      "metadata": {
        "scrolled": true,
        "colab": {
          "base_uri": "https://localhost:8080/",
          "height": 52
        },
        "id": "h6oV-ajbrQz3",
        "outputId": "4e3d1672-a1f6-4927-d3e3-d82bc171627e"
      },
      "outputs": [
        {
          "output_type": "display_data",
          "data": {
            "text/html": [
              "TRUE"
            ],
            "text/markdown": "TRUE",
            "text/latex": "TRUE",
            "text/plain": [
              "[1] TRUE"
            ]
          },
          "metadata": {}
        },
        {
          "output_type": "display_data",
          "data": {
            "text/html": [
              "FALSE"
            ],
            "text/markdown": "FALSE",
            "text/latex": "FALSE",
            "text/plain": [
              "[1] FALSE"
            ]
          },
          "metadata": {}
        }
      ],
      "source": [
        "any(is.na(data$age))\n",
        "any(is.na(data$age_filled))"
      ]
    },
    {
      "cell_type": "markdown",
      "metadata": {
        "id": "-5qXgxcTrQz3"
      },
      "source": [
        "This imputation strategy is interesting as it preserves the unconditional mean of the series.\n",
        "This simple imputation shrinks overall values towards the unconditional mean or median, reducing variability. We can think of different ways to avoid this, such as replacing by *conditional* statistics, i.e using particular subgroups of data and categorical variables."
      ]
    },
    {
      "cell_type": "markdown",
      "metadata": {
        "id": "vuMNgW_Dvqrl"
      },
      "source": [
        "Suppose we want to fill missing _age_ values with the age of a given group based on sex:"
      ]
    },
    {
      "cell_type": "code",
      "execution_count": null,
      "metadata": {
        "colab": {
          "base_uri": "https://localhost:8080/",
          "height": 52
        },
        "id": "X90Roct0rQz4",
        "outputId": "5c59a99e-c05e-45bd-8ec1-3fc90ae0df10"
      },
      "outputs": [
        {
          "output_type": "display_data",
          "data": {
            "text/html": [
              "30.5852279635258"
            ],
            "text/markdown": "30.5852279635258",
            "text/latex": "30.5852279635258",
            "text/plain": [
              "[1] 30.58523"
            ]
          },
          "metadata": {}
        },
        {
          "output_type": "display_data",
          "data": {
            "text/html": [
              "28.687087628866"
            ],
            "text/markdown": "28.687087628866",
            "text/latex": "28.687087628866",
            "text/plain": [
              "[1] 28.68709"
            ]
          },
          "metadata": {}
        }
      ],
      "source": [
        "data$age_sex_filled  <- data$age\n",
        "missing_male   <- is.na(data$age) & data$sex=='male'\n",
        "missing_female <- is.na(data$age) & data$sex=='female'\n",
        "mean(data$age[data$sex=='male'],na.rm=TRUE)\n",
        "mean(data$age[data$sex=='female'],na.rm=TRUE)"
      ]
    },
    {
      "cell_type": "code",
      "execution_count": null,
      "metadata": {
        "id": "RBoaW-MUrQz4"
      },
      "outputs": [],
      "source": [
        "data$age_sex_filled[missing_male]    <- mean(data$age[data$sex=='male'],na.rm=TRUE)\n",
        "data$age_sex_filled[missing_female]  <- mean(data$age[data$sex=='female'],na.rm=TRUE)"
      ]
    },
    {
      "cell_type": "code",
      "execution_count": null,
      "metadata": {
        "scrolled": true,
        "colab": {
          "base_uri": "https://localhost:8080/",
          "height": 306
        },
        "id": "3uG_ghbQrQz4",
        "outputId": "e68c3143-80e5-431d-f89d-514713fe7bd8"
      },
      "outputs": [
        {
          "output_type": "display_data",
          "data": {
            "text/html": [
              "<table class=\"dataframe\">\n",
              "<caption>A data.frame: 6 × 10</caption>\n",
              "<thead>\n",
              "\t<tr><th></th><th scope=col>pclass</th><th scope=col>survived</th><th scope=col>sex</th><th scope=col>age</th><th scope=col>sibsp</th><th scope=col>parch</th><th scope=col>fare</th><th scope=col>children</th><th scope=col>age_filled</th><th scope=col>age_sex_filled</th></tr>\n",
              "\t<tr><th></th><th scope=col>&lt;int&gt;</th><th scope=col>&lt;int&gt;</th><th scope=col>&lt;chr&gt;</th><th scope=col>&lt;dbl&gt;</th><th scope=col>&lt;int&gt;</th><th scope=col>&lt;int&gt;</th><th scope=col>&lt;dbl&gt;</th><th scope=col>&lt;lgl&gt;</th><th scope=col>&lt;dbl&gt;</th><th scope=col>&lt;dbl&gt;</th></tr>\n",
              "</thead>\n",
              "<tbody>\n",
              "\t<tr><th scope=row>1304</th><td>3</td><td>0</td><td>male  </td><td>  NA</td><td>0</td><td>0</td><td>14.4583</td><td>   NA</td><td>29.88114</td><td>30.58523</td></tr>\n",
              "\t<tr><th scope=row>1305</th><td>3</td><td>0</td><td>female</td><td>14.5</td><td>1</td><td>0</td><td>14.4542</td><td> TRUE</td><td>14.50000</td><td>14.50000</td></tr>\n",
              "\t<tr><th scope=row>1306</th><td>3</td><td>0</td><td>female</td><td>  NA</td><td>1</td><td>0</td><td>14.4542</td><td>   NA</td><td>29.88114</td><td>28.68709</td></tr>\n",
              "\t<tr><th scope=row>1307</th><td>3</td><td>0</td><td>male  </td><td>26.5</td><td>0</td><td>0</td><td> 7.2250</td><td>FALSE</td><td>26.50000</td><td>26.50000</td></tr>\n",
              "\t<tr><th scope=row>1308</th><td>3</td><td>0</td><td>male  </td><td>27.0</td><td>0</td><td>0</td><td> 7.2250</td><td>FALSE</td><td>27.00000</td><td>27.00000</td></tr>\n",
              "\t<tr><th scope=row>1309</th><td>3</td><td>0</td><td>male  </td><td>29.0</td><td>0</td><td>0</td><td> 7.8750</td><td>FALSE</td><td>29.00000</td><td>29.00000</td></tr>\n",
              "</tbody>\n",
              "</table>\n"
            ],
            "text/markdown": "\nA data.frame: 6 × 10\n\n| <!--/--> | pclass &lt;int&gt; | survived &lt;int&gt; | sex &lt;chr&gt; | age &lt;dbl&gt; | sibsp &lt;int&gt; | parch &lt;int&gt; | fare &lt;dbl&gt; | children &lt;lgl&gt; | age_filled &lt;dbl&gt; | age_sex_filled &lt;dbl&gt; |\n|---|---|---|---|---|---|---|---|---|---|---|\n| 1304 | 3 | 0 | male   |   NA | 0 | 0 | 14.4583 |    NA | 29.88114 | 30.58523 |\n| 1305 | 3 | 0 | female | 14.5 | 1 | 0 | 14.4542 |  TRUE | 14.50000 | 14.50000 |\n| 1306 | 3 | 0 | female |   NA | 1 | 0 | 14.4542 |    NA | 29.88114 | 28.68709 |\n| 1307 | 3 | 0 | male   | 26.5 | 0 | 0 |  7.2250 | FALSE | 26.50000 | 26.50000 |\n| 1308 | 3 | 0 | male   | 27.0 | 0 | 0 |  7.2250 | FALSE | 27.00000 | 27.00000 |\n| 1309 | 3 | 0 | male   | 29.0 | 0 | 0 |  7.8750 | FALSE | 29.00000 | 29.00000 |\n\n",
            "text/latex": "A data.frame: 6 × 10\n\\begin{tabular}{r|llllllllll}\n  & pclass & survived & sex & age & sibsp & parch & fare & children & age\\_filled & age\\_sex\\_filled\\\\\n  & <int> & <int> & <chr> & <dbl> & <int> & <int> & <dbl> & <lgl> & <dbl> & <dbl>\\\\\n\\hline\n\t1304 & 3 & 0 & male   &   NA & 0 & 0 & 14.4583 &    NA & 29.88114 & 30.58523\\\\\n\t1305 & 3 & 0 & female & 14.5 & 1 & 0 & 14.4542 &  TRUE & 14.50000 & 14.50000\\\\\n\t1306 & 3 & 0 & female &   NA & 1 & 0 & 14.4542 &    NA & 29.88114 & 28.68709\\\\\n\t1307 & 3 & 0 & male   & 26.5 & 0 & 0 &  7.2250 & FALSE & 26.50000 & 26.50000\\\\\n\t1308 & 3 & 0 & male   & 27.0 & 0 & 0 &  7.2250 & FALSE & 27.00000 & 27.00000\\\\\n\t1309 & 3 & 0 & male   & 29.0 & 0 & 0 &  7.8750 & FALSE & 29.00000 & 29.00000\\\\\n\\end{tabular}\n",
            "text/plain": [
              "     pclass survived sex    age  sibsp parch fare    children age_filled\n",
              "1304 3      0        male     NA 0     0     14.4583    NA    29.88114  \n",
              "1305 3      0        female 14.5 1     0     14.4542  TRUE    14.50000  \n",
              "1306 3      0        female   NA 1     0     14.4542    NA    29.88114  \n",
              "1307 3      0        male   26.5 0     0      7.2250 FALSE    26.50000  \n",
              "1308 3      0        male   27.0 0     0      7.2250 FALSE    27.00000  \n",
              "1309 3      0        male   29.0 0     0      7.8750 FALSE    29.00000  \n",
              "     age_sex_filled\n",
              "1304 30.58523      \n",
              "1305 14.50000      \n",
              "1306 28.68709      \n",
              "1307 26.50000      \n",
              "1308 27.00000      \n",
              "1309 29.00000      "
            ]
          },
          "metadata": {}
        }
      ],
      "source": [
        "tail(data)"
      ]
    },
    {
      "cell_type": "markdown",
      "metadata": {
        "id": "DIfOlxaxrQz4"
      },
      "source": [
        "`dplyr' is a widely used package in R. A potential solution using dplyr would be:"
      ]
    },
    {
      "cell_type": "code",
      "execution_count": null,
      "metadata": {
        "colab": {
          "base_uri": "https://localhost:8080/",
          "height": 1000
        },
        "id": "GZ9zY9DerQz_",
        "outputId": "38dab001-2167-4c58-a37e-5cc21f61b8db"
      },
      "outputs": [
        {
          "output_type": "display_data",
          "data": {
            "text/html": [
              "<table class=\"dataframe\">\n",
              "<caption>A grouped_df: 263 × 3</caption>\n",
              "<thead>\n",
              "\t<tr><th scope=col>age</th><th scope=col>age_filled</th><th scope=col>sex</th></tr>\n",
              "\t<tr><th scope=col>&lt;dbl&gt;</th><th scope=col>&lt;dbl&gt;</th><th scope=col>&lt;chr&gt;</th></tr>\n",
              "</thead>\n",
              "<tbody>\n",
              "\t<tr><td>NA</td><td>30.58523</td><td>male  </td></tr>\n",
              "\t<tr><td>NA</td><td>30.58523</td><td>male  </td></tr>\n",
              "\t<tr><td>NA</td><td>30.58523</td><td>male  </td></tr>\n",
              "\t<tr><td>NA</td><td>30.58523</td><td>male  </td></tr>\n",
              "\t<tr><td>NA</td><td>28.68709</td><td>female</td></tr>\n",
              "\t<tr><td>NA</td><td>28.68709</td><td>female</td></tr>\n",
              "\t<tr><td>NA</td><td>30.58523</td><td>male  </td></tr>\n",
              "\t<tr><td>NA</td><td>30.58523</td><td>male  </td></tr>\n",
              "\t<tr><td>NA</td><td>30.58523</td><td>male  </td></tr>\n",
              "\t<tr><td>NA</td><td>30.58523</td><td>male  </td></tr>\n",
              "\t<tr><td>NA</td><td>28.68709</td><td>female</td></tr>\n",
              "\t<tr><td>NA</td><td>28.68709</td><td>female</td></tr>\n",
              "\t<tr><td>NA</td><td>30.58523</td><td>male  </td></tr>\n",
              "\t<tr><td>NA</td><td>28.68709</td><td>female</td></tr>\n",
              "\t<tr><td>NA</td><td>30.58523</td><td>male  </td></tr>\n",
              "\t<tr><td>NA</td><td>28.68709</td><td>female</td></tr>\n",
              "\t<tr><td>NA</td><td>30.58523</td><td>male  </td></tr>\n",
              "\t<tr><td>NA</td><td>30.58523</td><td>male  </td></tr>\n",
              "\t<tr><td>NA</td><td>30.58523</td><td>male  </td></tr>\n",
              "\t<tr><td>NA</td><td>30.58523</td><td>male  </td></tr>\n",
              "\t<tr><td>NA</td><td>28.68709</td><td>female</td></tr>\n",
              "\t<tr><td>NA</td><td>30.58523</td><td>male  </td></tr>\n",
              "\t<tr><td>NA</td><td>30.58523</td><td>male  </td></tr>\n",
              "\t<tr><td>NA</td><td>30.58523</td><td>male  </td></tr>\n",
              "\t<tr><td>NA</td><td>28.68709</td><td>female</td></tr>\n",
              "\t<tr><td>NA</td><td>30.58523</td><td>male  </td></tr>\n",
              "\t<tr><td>NA</td><td>30.58523</td><td>male  </td></tr>\n",
              "\t<tr><td>NA</td><td>30.58523</td><td>male  </td></tr>\n",
              "\t<tr><td>NA</td><td>30.58523</td><td>male  </td></tr>\n",
              "\t<tr><td>NA</td><td>30.58523</td><td>male  </td></tr>\n",
              "\t<tr><td>⋮</td><td>⋮</td><td>⋮</td></tr>\n",
              "\t<tr><td>NA</td><td>30.58523</td><td>male  </td></tr>\n",
              "\t<tr><td>NA</td><td>30.58523</td><td>male  </td></tr>\n",
              "\t<tr><td>NA</td><td>30.58523</td><td>male  </td></tr>\n",
              "\t<tr><td>NA</td><td>30.58523</td><td>male  </td></tr>\n",
              "\t<tr><td>NA</td><td>30.58523</td><td>male  </td></tr>\n",
              "\t<tr><td>NA</td><td>28.68709</td><td>female</td></tr>\n",
              "\t<tr><td>NA</td><td>30.58523</td><td>male  </td></tr>\n",
              "\t<tr><td>NA</td><td>30.58523</td><td>male  </td></tr>\n",
              "\t<tr><td>NA</td><td>30.58523</td><td>male  </td></tr>\n",
              "\t<tr><td>NA</td><td>30.58523</td><td>male  </td></tr>\n",
              "\t<tr><td>NA</td><td>30.58523</td><td>male  </td></tr>\n",
              "\t<tr><td>NA</td><td>30.58523</td><td>male  </td></tr>\n",
              "\t<tr><td>NA</td><td>30.58523</td><td>male  </td></tr>\n",
              "\t<tr><td>NA</td><td>28.68709</td><td>female</td></tr>\n",
              "\t<tr><td>NA</td><td>30.58523</td><td>male  </td></tr>\n",
              "\t<tr><td>NA</td><td>30.58523</td><td>male  </td></tr>\n",
              "\t<tr><td>NA</td><td>30.58523</td><td>male  </td></tr>\n",
              "\t<tr><td>NA</td><td>30.58523</td><td>male  </td></tr>\n",
              "\t<tr><td>NA</td><td>30.58523</td><td>male  </td></tr>\n",
              "\t<tr><td>NA</td><td>30.58523</td><td>male  </td></tr>\n",
              "\t<tr><td>NA</td><td>30.58523</td><td>male  </td></tr>\n",
              "\t<tr><td>NA</td><td>30.58523</td><td>male  </td></tr>\n",
              "\t<tr><td>NA</td><td>30.58523</td><td>male  </td></tr>\n",
              "\t<tr><td>NA</td><td>30.58523</td><td>male  </td></tr>\n",
              "\t<tr><td>NA</td><td>30.58523</td><td>male  </td></tr>\n",
              "\t<tr><td>NA</td><td>30.58523</td><td>male  </td></tr>\n",
              "\t<tr><td>NA</td><td>30.58523</td><td>male  </td></tr>\n",
              "\t<tr><td>NA</td><td>30.58523</td><td>male  </td></tr>\n",
              "\t<tr><td>NA</td><td>30.58523</td><td>male  </td></tr>\n",
              "\t<tr><td>NA</td><td>28.68709</td><td>female</td></tr>\n",
              "</tbody>\n",
              "</table>\n"
            ],
            "text/markdown": "\nA grouped_df: 263 × 3\n\n| age &lt;dbl&gt; | age_filled &lt;dbl&gt; | sex &lt;chr&gt; |\n|---|---|---|\n| NA | 30.58523 | male   |\n| NA | 30.58523 | male   |\n| NA | 30.58523 | male   |\n| NA | 30.58523 | male   |\n| NA | 28.68709 | female |\n| NA | 28.68709 | female |\n| NA | 30.58523 | male   |\n| NA | 30.58523 | male   |\n| NA | 30.58523 | male   |\n| NA | 30.58523 | male   |\n| NA | 28.68709 | female |\n| NA | 28.68709 | female |\n| NA | 30.58523 | male   |\n| NA | 28.68709 | female |\n| NA | 30.58523 | male   |\n| NA | 28.68709 | female |\n| NA | 30.58523 | male   |\n| NA | 30.58523 | male   |\n| NA | 30.58523 | male   |\n| NA | 30.58523 | male   |\n| NA | 28.68709 | female |\n| NA | 30.58523 | male   |\n| NA | 30.58523 | male   |\n| NA | 30.58523 | male   |\n| NA | 28.68709 | female |\n| NA | 30.58523 | male   |\n| NA | 30.58523 | male   |\n| NA | 30.58523 | male   |\n| NA | 30.58523 | male   |\n| NA | 30.58523 | male   |\n| ⋮ | ⋮ | ⋮ |\n| NA | 30.58523 | male   |\n| NA | 30.58523 | male   |\n| NA | 30.58523 | male   |\n| NA | 30.58523 | male   |\n| NA | 30.58523 | male   |\n| NA | 28.68709 | female |\n| NA | 30.58523 | male   |\n| NA | 30.58523 | male   |\n| NA | 30.58523 | male   |\n| NA | 30.58523 | male   |\n| NA | 30.58523 | male   |\n| NA | 30.58523 | male   |\n| NA | 30.58523 | male   |\n| NA | 28.68709 | female |\n| NA | 30.58523 | male   |\n| NA | 30.58523 | male   |\n| NA | 30.58523 | male   |\n| NA | 30.58523 | male   |\n| NA | 30.58523 | male   |\n| NA | 30.58523 | male   |\n| NA | 30.58523 | male   |\n| NA | 30.58523 | male   |\n| NA | 30.58523 | male   |\n| NA | 30.58523 | male   |\n| NA | 30.58523 | male   |\n| NA | 30.58523 | male   |\n| NA | 30.58523 | male   |\n| NA | 30.58523 | male   |\n| NA | 30.58523 | male   |\n| NA | 28.68709 | female |\n\n",
            "text/latex": "A grouped\\_df: 263 × 3\n\\begin{tabular}{lll}\n age & age\\_filled & sex\\\\\n <dbl> & <dbl> & <chr>\\\\\n\\hline\n\t NA & 30.58523 & male  \\\\\n\t NA & 30.58523 & male  \\\\\n\t NA & 30.58523 & male  \\\\\n\t NA & 30.58523 & male  \\\\\n\t NA & 28.68709 & female\\\\\n\t NA & 28.68709 & female\\\\\n\t NA & 30.58523 & male  \\\\\n\t NA & 30.58523 & male  \\\\\n\t NA & 30.58523 & male  \\\\\n\t NA & 30.58523 & male  \\\\\n\t NA & 28.68709 & female\\\\\n\t NA & 28.68709 & female\\\\\n\t NA & 30.58523 & male  \\\\\n\t NA & 28.68709 & female\\\\\n\t NA & 30.58523 & male  \\\\\n\t NA & 28.68709 & female\\\\\n\t NA & 30.58523 & male  \\\\\n\t NA & 30.58523 & male  \\\\\n\t NA & 30.58523 & male  \\\\\n\t NA & 30.58523 & male  \\\\\n\t NA & 28.68709 & female\\\\\n\t NA & 30.58523 & male  \\\\\n\t NA & 30.58523 & male  \\\\\n\t NA & 30.58523 & male  \\\\\n\t NA & 28.68709 & female\\\\\n\t NA & 30.58523 & male  \\\\\n\t NA & 30.58523 & male  \\\\\n\t NA & 30.58523 & male  \\\\\n\t NA & 30.58523 & male  \\\\\n\t NA & 30.58523 & male  \\\\\n\t ⋮ & ⋮ & ⋮\\\\\n\t NA & 30.58523 & male  \\\\\n\t NA & 30.58523 & male  \\\\\n\t NA & 30.58523 & male  \\\\\n\t NA & 30.58523 & male  \\\\\n\t NA & 30.58523 & male  \\\\\n\t NA & 28.68709 & female\\\\\n\t NA & 30.58523 & male  \\\\\n\t NA & 30.58523 & male  \\\\\n\t NA & 30.58523 & male  \\\\\n\t NA & 30.58523 & male  \\\\\n\t NA & 30.58523 & male  \\\\\n\t NA & 30.58523 & male  \\\\\n\t NA & 30.58523 & male  \\\\\n\t NA & 28.68709 & female\\\\\n\t NA & 30.58523 & male  \\\\\n\t NA & 30.58523 & male  \\\\\n\t NA & 30.58523 & male  \\\\\n\t NA & 30.58523 & male  \\\\\n\t NA & 30.58523 & male  \\\\\n\t NA & 30.58523 & male  \\\\\n\t NA & 30.58523 & male  \\\\\n\t NA & 30.58523 & male  \\\\\n\t NA & 30.58523 & male  \\\\\n\t NA & 30.58523 & male  \\\\\n\t NA & 30.58523 & male  \\\\\n\t NA & 30.58523 & male  \\\\\n\t NA & 30.58523 & male  \\\\\n\t NA & 30.58523 & male  \\\\\n\t NA & 30.58523 & male  \\\\\n\t NA & 28.68709 & female\\\\\n\\end{tabular}\n",
            "text/plain": [
              "    age age_filled sex   \n",
              "1   NA  30.58523   male  \n",
              "2   NA  30.58523   male  \n",
              "3   NA  30.58523   male  \n",
              "4   NA  30.58523   male  \n",
              "5   NA  28.68709   female\n",
              "6   NA  28.68709   female\n",
              "7   NA  30.58523   male  \n",
              "8   NA  30.58523   male  \n",
              "9   NA  30.58523   male  \n",
              "10  NA  30.58523   male  \n",
              "11  NA  28.68709   female\n",
              "12  NA  28.68709   female\n",
              "13  NA  30.58523   male  \n",
              "14  NA  28.68709   female\n",
              "15  NA  30.58523   male  \n",
              "16  NA  28.68709   female\n",
              "17  NA  30.58523   male  \n",
              "18  NA  30.58523   male  \n",
              "19  NA  30.58523   male  \n",
              "20  NA  30.58523   male  \n",
              "21  NA  28.68709   female\n",
              "22  NA  30.58523   male  \n",
              "23  NA  30.58523   male  \n",
              "24  NA  30.58523   male  \n",
              "25  NA  28.68709   female\n",
              "26  NA  30.58523   male  \n",
              "27  NA  30.58523   male  \n",
              "28  NA  30.58523   male  \n",
              "29  NA  30.58523   male  \n",
              "30  NA  30.58523   male  \n",
              "⋮   ⋮   ⋮          ⋮     \n",
              "234 NA  30.58523   male  \n",
              "235 NA  30.58523   male  \n",
              "236 NA  30.58523   male  \n",
              "237 NA  30.58523   male  \n",
              "238 NA  30.58523   male  \n",
              "239 NA  28.68709   female\n",
              "240 NA  30.58523   male  \n",
              "241 NA  30.58523   male  \n",
              "242 NA  30.58523   male  \n",
              "243 NA  30.58523   male  \n",
              "244 NA  30.58523   male  \n",
              "245 NA  30.58523   male  \n",
              "246 NA  30.58523   male  \n",
              "247 NA  28.68709   female\n",
              "248 NA  30.58523   male  \n",
              "249 NA  30.58523   male  \n",
              "250 NA  30.58523   male  \n",
              "251 NA  30.58523   male  \n",
              "252 NA  30.58523   male  \n",
              "253 NA  30.58523   male  \n",
              "254 NA  30.58523   male  \n",
              "255 NA  30.58523   male  \n",
              "256 NA  30.58523   male  \n",
              "257 NA  30.58523   male  \n",
              "258 NA  30.58523   male  \n",
              "259 NA  30.58523   male  \n",
              "260 NA  30.58523   male  \n",
              "261 NA  30.58523   male  \n",
              "262 NA  30.58523   male  \n",
              "263 NA  28.68709   female"
            ]
          },
          "metadata": {}
        }
      ],
      "source": [
        "data_nona <- data %>%\n",
        "  group_by(sex) %>% # First, take the data and group by gender.\n",
        "  mutate(age_filled = ifelse(is.na(age), # Then, if age is NA, age_filled is the average age within a group)\n",
        "    mean(age,\n",
        "      na.rm = TRUE\n",
        "    ), age\n",
        "  ))\n",
        "data_nona[is.na(data$age), c(\"age\", \"age_filled\", \"sex\")]"
      ]
    },
    {
      "cell_type": "markdown",
      "metadata": {
        "id": "4hgyPfa2vqrf"
      },
      "source": [
        "### Propagate previous/next value\n",
        "This method basically consists of filling a gap with previous or posterior observations of the same feature.\n",
        "\n",
        "This approach would typically make sense when there is a natural ordering in data (e.g. time series), **but we have to be careful!** if the goal is prediction, it may not be a great idea to use future values to replace past values.\n",
        "\n",
        "For an example of when this could be sensible, if we have a sequence of daily stock prices where one day is a holiday, we may just want to fill this using the last available price."
      ]
    },
    {
      "cell_type": "code",
      "source": [
        "my_data"
      ],
      "metadata": {
        "colab": {
          "base_uri": "https://localhost:8080/",
          "height": 429
        },
        "id": "fjZNuLAp8W6O",
        "outputId": "fb417936-fa50-4e10-f6a1-776a90032197"
      },
      "execution_count": null,
      "outputs": [
        {
          "output_type": "display_data",
          "data": {
            "text/html": [
              "<table class=\"dataframe\">\n",
              "<caption>A data.frame: 10 × 2</caption>\n",
              "<thead>\n",
              "\t<tr><th scope=col>y</th><th scope=col>x</th></tr>\n",
              "\t<tr><th scope=col>&lt;int&gt;</th><th scope=col>&lt;dbl&gt;</th></tr>\n",
              "</thead>\n",
              "<tbody>\n",
              "\t<tr><td> 1</td><td> 1</td></tr>\n",
              "\t<tr><td> 2</td><td>NA</td></tr>\n",
              "\t<tr><td> 3</td><td> 3</td></tr>\n",
              "\t<tr><td> 4</td><td> 4</td></tr>\n",
              "\t<tr><td> 5</td><td> 5</td></tr>\n",
              "\t<tr><td> 6</td><td> 6</td></tr>\n",
              "\t<tr><td> 7</td><td>NA</td></tr>\n",
              "\t<tr><td> 8</td><td>NA</td></tr>\n",
              "\t<tr><td> 9</td><td>NA</td></tr>\n",
              "\t<tr><td>10</td><td>10</td></tr>\n",
              "</tbody>\n",
              "</table>\n"
            ],
            "text/markdown": "\nA data.frame: 10 × 2\n\n| y &lt;int&gt; | x &lt;dbl&gt; |\n|---|---|\n|  1 |  1 |\n|  2 | NA |\n|  3 |  3 |\n|  4 |  4 |\n|  5 |  5 |\n|  6 |  6 |\n|  7 | NA |\n|  8 | NA |\n|  9 | NA |\n| 10 | 10 |\n\n",
            "text/latex": "A data.frame: 10 × 2\n\\begin{tabular}{ll}\n y & x\\\\\n <int> & <dbl>\\\\\n\\hline\n\t  1 &  1\\\\\n\t  2 & NA\\\\\n\t  3 &  3\\\\\n\t  4 &  4\\\\\n\t  5 &  5\\\\\n\t  6 &  6\\\\\n\t  7 & NA\\\\\n\t  8 & NA\\\\\n\t  9 & NA\\\\\n\t 10 & 10\\\\\n\\end{tabular}\n",
            "text/plain": [
              "   y  x \n",
              "1   1  1\n",
              "2   2 NA\n",
              "3   3  3\n",
              "4   4  4\n",
              "5   5  5\n",
              "6   6  6\n",
              "7   7 NA\n",
              "8   8 NA\n",
              "9   9 NA\n",
              "10 10 10"
            ]
          },
          "metadata": {}
        }
      ]
    },
    {
      "cell_type": "code",
      "execution_count": null,
      "metadata": {
        "colab": {
          "base_uri": "https://localhost:8080/",
          "height": 429
        },
        "id": "LrOTvpRXvqrg",
        "outputId": "92419579-5b36-4aa5-de0f-9135d71ecf9f"
      },
      "outputs": [
        {
          "output_type": "display_data",
          "data": {
            "text/html": [
              "<table class=\"dataframe\">\n",
              "<caption>A data.frame: 10 × 2</caption>\n",
              "<thead>\n",
              "\t<tr><th scope=col>y</th><th scope=col>x</th></tr>\n",
              "\t<tr><th scope=col>&lt;int&gt;</th><th scope=col>&lt;dbl&gt;</th></tr>\n",
              "</thead>\n",
              "<tbody>\n",
              "\t<tr><td> 1</td><td> 1</td></tr>\n",
              "\t<tr><td> 2</td><td> 1</td></tr>\n",
              "\t<tr><td> 3</td><td> 3</td></tr>\n",
              "\t<tr><td> 4</td><td> 4</td></tr>\n",
              "\t<tr><td> 5</td><td> 5</td></tr>\n",
              "\t<tr><td> 6</td><td> 6</td></tr>\n",
              "\t<tr><td> 7</td><td> 6</td></tr>\n",
              "\t<tr><td> 8</td><td> 6</td></tr>\n",
              "\t<tr><td> 9</td><td> 6</td></tr>\n",
              "\t<tr><td>10</td><td>10</td></tr>\n",
              "</tbody>\n",
              "</table>\n"
            ],
            "text/markdown": "\nA data.frame: 10 × 2\n\n| y &lt;int&gt; | x &lt;dbl&gt; |\n|---|---|\n|  1 |  1 |\n|  2 |  1 |\n|  3 |  3 |\n|  4 |  4 |\n|  5 |  5 |\n|  6 |  6 |\n|  7 |  6 |\n|  8 |  6 |\n|  9 |  6 |\n| 10 | 10 |\n\n",
            "text/latex": "A data.frame: 10 × 2\n\\begin{tabular}{ll}\n y & x\\\\\n <int> & <dbl>\\\\\n\\hline\n\t  1 &  1\\\\\n\t  2 &  1\\\\\n\t  3 &  3\\\\\n\t  4 &  4\\\\\n\t  5 &  5\\\\\n\t  6 &  6\\\\\n\t  7 &  6\\\\\n\t  8 &  6\\\\\n\t  9 &  6\\\\\n\t 10 & 10\\\\\n\\end{tabular}\n",
            "text/plain": [
              "   y  x \n",
              "1   1  1\n",
              "2   2  1\n",
              "3   3  3\n",
              "4   4  4\n",
              "5   5  5\n",
              "6   6  6\n",
              "7   7  6\n",
              "8   8  6\n",
              "9   9  6\n",
              "10 10 10"
            ]
          },
          "metadata": {}
        }
      ],
      "source": [
        "# Lets see how forward filling works\n",
        "my_data <- cbind.data.frame(\"y\" = 1:10, \"x\" = c(1, NA, 3, 4, 5, 6, NA, NA, NA, 10))\n",
        "tidyr::fill(my_data, .direction = \"down\", \"x\")"
      ]
    },
    {
      "cell_type": "code",
      "execution_count": null,
      "metadata": {
        "colab": {
          "base_uri": "https://localhost:8080/",
          "height": 429
        },
        "id": "VDBdeMdTvqrg",
        "outputId": "ca0aeb4c-bea0-46df-c1da-9650c545aaeb",
        "scrolled": true
      },
      "outputs": [
        {
          "output_type": "display_data",
          "data": {
            "text/html": [
              "<table class=\"dataframe\">\n",
              "<caption>A data.frame: 10 × 2</caption>\n",
              "<thead>\n",
              "\t<tr><th scope=col>y</th><th scope=col>x</th></tr>\n",
              "\t<tr><th scope=col>&lt;int&gt;</th><th scope=col>&lt;dbl&gt;</th></tr>\n",
              "</thead>\n",
              "<tbody>\n",
              "\t<tr><td> 1</td><td> 1</td></tr>\n",
              "\t<tr><td> 2</td><td> 3</td></tr>\n",
              "\t<tr><td> 3</td><td> 3</td></tr>\n",
              "\t<tr><td> 4</td><td> 4</td></tr>\n",
              "\t<tr><td> 5</td><td> 5</td></tr>\n",
              "\t<tr><td> 6</td><td> 6</td></tr>\n",
              "\t<tr><td> 7</td><td>10</td></tr>\n",
              "\t<tr><td> 8</td><td>10</td></tr>\n",
              "\t<tr><td> 9</td><td>10</td></tr>\n",
              "\t<tr><td>10</td><td>10</td></tr>\n",
              "</tbody>\n",
              "</table>\n"
            ],
            "text/markdown": "\nA data.frame: 10 × 2\n\n| y &lt;int&gt; | x &lt;dbl&gt; |\n|---|---|\n|  1 |  1 |\n|  2 |  3 |\n|  3 |  3 |\n|  4 |  4 |\n|  5 |  5 |\n|  6 |  6 |\n|  7 | 10 |\n|  8 | 10 |\n|  9 | 10 |\n| 10 | 10 |\n\n",
            "text/latex": "A data.frame: 10 × 2\n\\begin{tabular}{ll}\n y & x\\\\\n <int> & <dbl>\\\\\n\\hline\n\t  1 &  1\\\\\n\t  2 &  3\\\\\n\t  3 &  3\\\\\n\t  4 &  4\\\\\n\t  5 &  5\\\\\n\t  6 &  6\\\\\n\t  7 & 10\\\\\n\t  8 & 10\\\\\n\t  9 & 10\\\\\n\t 10 & 10\\\\\n\\end{tabular}\n",
            "text/plain": [
              "   y  x \n",
              "1   1  1\n",
              "2   2  3\n",
              "3   3  3\n",
              "4   4  4\n",
              "5   5  5\n",
              "6   6  6\n",
              "7   7 10\n",
              "8   8 10\n",
              "9   9 10\n",
              "10 10 10"
            ]
          },
          "metadata": {}
        }
      ],
      "source": [
        "# and backwards\n",
        "tidyr::fill(my_data, .direction = \"downup\", \"x\")"
      ]
    },
    {
      "cell_type": "markdown",
      "metadata": {
        "id": "SL2JGWh2vqro"
      },
      "source": [
        "### Using models to impute data\n",
        "We can also use formal statistical models to impute data.\n",
        "In particular, we can just treat the missing data as a prediction problem, and predict the missing values using any of the models we will see in the upcoming lectures. There are also other more complex ways of dealing with this, but we will not go in more detail for now."
      ]
    },
    {
      "cell_type": "markdown",
      "metadata": {
        "ein.tags": "worksheet-0",
        "id": "xoH1EXTl-lN1"
      },
      "source": [
        "# Feature Engineering\n"
      ]
    },
    {
      "cell_type": "markdown",
      "metadata": {
        "id": "Yb8u9txK-lN1"
      },
      "source": [
        "## Summary\n",
        "\n",
        "Input variables are not necessarily the features that one finally uses to build prediction models. The process that transforms input variables into features is what we call *feature engineering*.\n",
        "\n",
        "Some prediction models, like neural networks, have already embedded some feature engineering, but for most of them, transforming input variables in a proper way may make the difference in terms of final performance.\n",
        "\n",
        "This is just a high level introduction of techniques for feature engineering, with some links for further reading."
      ]
    },
    {
      "cell_type": "markdown",
      "metadata": {
        "id": "7cQgzn4C-lN1"
      },
      "source": [
        "# Feature transformation\n",
        "\n",
        "## Binning\n",
        "This is the process of aggregating a continuous variable into bins. For example, from *grades* to *grade_class* (A, B, C), or from age into age groups, as we did above. This is widely used in finance for creating portfolios based on quantiles of some variables. For example, we may want to split fares into 10 bins created from quantiles."
      ]
    },
    {
      "cell_type": "code",
      "source": [
        "cor(data$age,data$survived,use='pairwise.complete.obs')"
      ],
      "metadata": {
        "colab": {
          "base_uri": "https://localhost:8080/",
          "height": 34
        },
        "id": "fl5ivLO795ea",
        "outputId": "e0711cb2-dc9a-44af-f346-75e829d3a2cf"
      },
      "execution_count": null,
      "outputs": [
        {
          "output_type": "display_data",
          "data": {
            "text/html": [
              "-0.0555118359713635"
            ],
            "text/markdown": "-0.0555118359713635",
            "text/latex": "-0.0555118359713635",
            "text/plain": [
              "[1] -0.05551184"
            ]
          },
          "metadata": {}
        }
      ]
    },
    {
      "cell_type": "code",
      "source": [
        "quantile(data$fare,na.rm=TRUE)"
      ],
      "metadata": {
        "colab": {
          "base_uri": "https://localhost:8080/",
          "height": 34
        },
        "id": "NSMiVW7i-WmS",
        "outputId": "72732816-532a-41f6-9086-007d840f778d"
      },
      "execution_count": null,
      "outputs": [
        {
          "output_type": "display_data",
          "data": {
            "text/html": [
              "<style>\n",
              ".dl-inline {width: auto; margin:0; padding: 0}\n",
              ".dl-inline>dt, .dl-inline>dd {float: none; width: auto; display: inline-block}\n",
              ".dl-inline>dt::after {content: \":\\0020\"; padding-right: .5ex}\n",
              ".dl-inline>dt:not(:first-of-type) {padding-left: .5ex}\n",
              "</style><dl class=dl-inline><dt>0%</dt><dd>0</dd><dt>25%</dt><dd>7.8958</dd><dt>50%</dt><dd>14.4542</dd><dt>75%</dt><dd>31.275</dd><dt>100%</dt><dd>512.3292</dd></dl>\n"
            ],
            "text/markdown": "0%\n:   025%\n:   7.895850%\n:   14.454275%\n:   31.275100%\n:   512.3292\n\n",
            "text/latex": "\\begin{description*}\n\\item[0\\textbackslash{}\\%] 0\n\\item[25\\textbackslash{}\\%] 7.8958\n\\item[50\\textbackslash{}\\%] 14.4542\n\\item[75\\textbackslash{}\\%] 31.275\n\\item[100\\textbackslash{}\\%] 512.3292\n\\end{description*}\n",
            "text/plain": [
              "      0%      25%      50%      75%     100% \n",
              "  0.0000   7.8958  14.4542  31.2750 512.3292 "
            ]
          },
          "metadata": {}
        }
      ]
    },
    {
      "cell_type": "code",
      "execution_count": null,
      "metadata": {
        "colab": {
          "base_uri": "https://localhost:8080/",
          "height": 1000
        },
        "id": "IYqwgbuHrQ0A",
        "outputId": "82538783-7f69-4318-9167-ff66c24ca9bf"
      },
      "outputs": [
        {
          "output_type": "display_data",
          "data": {
            "text/html": [
              "<table class=\"dataframe\">\n",
              "<caption>A data.frame: 1309 × 2</caption>\n",
              "<thead>\n",
              "\t<tr><th scope=col>data$fare_quantile</th><th scope=col>data$fare</th></tr>\n",
              "\t<tr><th scope=col>&lt;int&gt;</th><th scope=col>&lt;dbl&gt;</th></tr>\n",
              "</thead>\n",
              "<tbody>\n",
              "\t<tr><td>4</td><td>211.3375</td></tr>\n",
              "\t<tr><td>4</td><td>151.5500</td></tr>\n",
              "\t<tr><td>4</td><td>151.5500</td></tr>\n",
              "\t<tr><td>4</td><td>151.5500</td></tr>\n",
              "\t<tr><td>4</td><td>151.5500</td></tr>\n",
              "\t<tr><td>3</td><td> 26.5500</td></tr>\n",
              "\t<tr><td>4</td><td> 77.9583</td></tr>\n",
              "\t<tr><td>1</td><td>  0.0000</td></tr>\n",
              "\t<tr><td>4</td><td> 51.4792</td></tr>\n",
              "\t<tr><td>4</td><td> 49.5042</td></tr>\n",
              "\t<tr><td>4</td><td>227.5250</td></tr>\n",
              "\t<tr><td>4</td><td>227.5250</td></tr>\n",
              "\t<tr><td>4</td><td> 69.3000</td></tr>\n",
              "\t<tr><td>4</td><td> 78.8500</td></tr>\n",
              "\t<tr><td>3</td><td> 30.0000</td></tr>\n",
              "\t<tr><td>3</td><td> 25.9250</td></tr>\n",
              "\t<tr><td>4</td><td>247.5208</td></tr>\n",
              "\t<tr><td>4</td><td>247.5208</td></tr>\n",
              "\t<tr><td>4</td><td> 76.2917</td></tr>\n",
              "\t<tr><td>4</td><td> 75.2417</td></tr>\n",
              "\t<tr><td>4</td><td> 52.5542</td></tr>\n",
              "\t<tr><td>4</td><td> 52.5542</td></tr>\n",
              "\t<tr><td>3</td><td> 30.0000</td></tr>\n",
              "\t<tr><td>4</td><td>227.5250</td></tr>\n",
              "\t<tr><td>4</td><td>221.7792</td></tr>\n",
              "\t<tr><td>3</td><td> 26.0000</td></tr>\n",
              "\t<tr><td>4</td><td> 91.0792</td></tr>\n",
              "\t<tr><td>4</td><td> 91.0792</td></tr>\n",
              "\t<tr><td>4</td><td>135.6333</td></tr>\n",
              "\t<tr><td>3</td><td> 26.5500</td></tr>\n",
              "\t<tr><td>⋮</td><td>⋮</td></tr>\n",
              "\t<tr><td>1</td><td> 7.8542</td></tr>\n",
              "\t<tr><td>2</td><td> 7.8958</td></tr>\n",
              "\t<tr><td>2</td><td> 9.0000</td></tr>\n",
              "\t<tr><td>2</td><td> 8.0500</td></tr>\n",
              "\t<tr><td>1</td><td> 7.5500</td></tr>\n",
              "\t<tr><td>2</td><td> 8.0500</td></tr>\n",
              "\t<tr><td>2</td><td> 9.5000</td></tr>\n",
              "\t<tr><td>1</td><td> 7.2292</td></tr>\n",
              "\t<tr><td>1</td><td> 7.7500</td></tr>\n",
              "\t<tr><td>1</td><td> 6.4958</td></tr>\n",
              "\t<tr><td>1</td><td> 6.4958</td></tr>\n",
              "\t<tr><td>1</td><td> 7.0000</td></tr>\n",
              "\t<tr><td>2</td><td> 8.7125</td></tr>\n",
              "\t<tr><td>1</td><td> 7.5500</td></tr>\n",
              "\t<tr><td>2</td><td> 8.0500</td></tr>\n",
              "\t<tr><td>3</td><td>16.1000</td></tr>\n",
              "\t<tr><td>1</td><td> 7.2500</td></tr>\n",
              "\t<tr><td>2</td><td> 8.6625</td></tr>\n",
              "\t<tr><td>1</td><td> 7.2500</td></tr>\n",
              "\t<tr><td>2</td><td> 9.5000</td></tr>\n",
              "\t<tr><td>3</td><td>14.4542</td></tr>\n",
              "\t<tr><td>3</td><td>14.4542</td></tr>\n",
              "\t<tr><td>1</td><td> 7.2250</td></tr>\n",
              "\t<tr><td>1</td><td> 7.2250</td></tr>\n",
              "\t<tr><td>3</td><td>14.4583</td></tr>\n",
              "\t<tr><td>3</td><td>14.4542</td></tr>\n",
              "\t<tr><td>3</td><td>14.4542</td></tr>\n",
              "\t<tr><td>1</td><td> 7.2250</td></tr>\n",
              "\t<tr><td>1</td><td> 7.2250</td></tr>\n",
              "\t<tr><td>1</td><td> 7.8750</td></tr>\n",
              "</tbody>\n",
              "</table>\n"
            ],
            "text/markdown": "\nA data.frame: 1309 × 2\n\n| data$fare_quantile &lt;int&gt; | data$fare &lt;dbl&gt; |\n|---|---|\n| 4 | 211.3375 |\n| 4 | 151.5500 |\n| 4 | 151.5500 |\n| 4 | 151.5500 |\n| 4 | 151.5500 |\n| 3 |  26.5500 |\n| 4 |  77.9583 |\n| 1 |   0.0000 |\n| 4 |  51.4792 |\n| 4 |  49.5042 |\n| 4 | 227.5250 |\n| 4 | 227.5250 |\n| 4 |  69.3000 |\n| 4 |  78.8500 |\n| 3 |  30.0000 |\n| 3 |  25.9250 |\n| 4 | 247.5208 |\n| 4 | 247.5208 |\n| 4 |  76.2917 |\n| 4 |  75.2417 |\n| 4 |  52.5542 |\n| 4 |  52.5542 |\n| 3 |  30.0000 |\n| 4 | 227.5250 |\n| 4 | 221.7792 |\n| 3 |  26.0000 |\n| 4 |  91.0792 |\n| 4 |  91.0792 |\n| 4 | 135.6333 |\n| 3 |  26.5500 |\n| ⋮ | ⋮ |\n| 1 |  7.8542 |\n| 2 |  7.8958 |\n| 2 |  9.0000 |\n| 2 |  8.0500 |\n| 1 |  7.5500 |\n| 2 |  8.0500 |\n| 2 |  9.5000 |\n| 1 |  7.2292 |\n| 1 |  7.7500 |\n| 1 |  6.4958 |\n| 1 |  6.4958 |\n| 1 |  7.0000 |\n| 2 |  8.7125 |\n| 1 |  7.5500 |\n| 2 |  8.0500 |\n| 3 | 16.1000 |\n| 1 |  7.2500 |\n| 2 |  8.6625 |\n| 1 |  7.2500 |\n| 2 |  9.5000 |\n| 3 | 14.4542 |\n| 3 | 14.4542 |\n| 1 |  7.2250 |\n| 1 |  7.2250 |\n| 3 | 14.4583 |\n| 3 | 14.4542 |\n| 3 | 14.4542 |\n| 1 |  7.2250 |\n| 1 |  7.2250 |\n| 1 |  7.8750 |\n\n",
            "text/latex": "A data.frame: 1309 × 2\n\\begin{tabular}{ll}\n data\\$fare\\_quantile & data\\$fare\\\\\n <int> & <dbl>\\\\\n\\hline\n\t 4 & 211.3375\\\\\n\t 4 & 151.5500\\\\\n\t 4 & 151.5500\\\\\n\t 4 & 151.5500\\\\\n\t 4 & 151.5500\\\\\n\t 3 &  26.5500\\\\\n\t 4 &  77.9583\\\\\n\t 1 &   0.0000\\\\\n\t 4 &  51.4792\\\\\n\t 4 &  49.5042\\\\\n\t 4 & 227.5250\\\\\n\t 4 & 227.5250\\\\\n\t 4 &  69.3000\\\\\n\t 4 &  78.8500\\\\\n\t 3 &  30.0000\\\\\n\t 3 &  25.9250\\\\\n\t 4 & 247.5208\\\\\n\t 4 & 247.5208\\\\\n\t 4 &  76.2917\\\\\n\t 4 &  75.2417\\\\\n\t 4 &  52.5542\\\\\n\t 4 &  52.5542\\\\\n\t 3 &  30.0000\\\\\n\t 4 & 227.5250\\\\\n\t 4 & 221.7792\\\\\n\t 3 &  26.0000\\\\\n\t 4 &  91.0792\\\\\n\t 4 &  91.0792\\\\\n\t 4 & 135.6333\\\\\n\t 3 &  26.5500\\\\\n\t ⋮ & ⋮\\\\\n\t 1 &  7.8542\\\\\n\t 2 &  7.8958\\\\\n\t 2 &  9.0000\\\\\n\t 2 &  8.0500\\\\\n\t 1 &  7.5500\\\\\n\t 2 &  8.0500\\\\\n\t 2 &  9.5000\\\\\n\t 1 &  7.2292\\\\\n\t 1 &  7.7500\\\\\n\t 1 &  6.4958\\\\\n\t 1 &  6.4958\\\\\n\t 1 &  7.0000\\\\\n\t 2 &  8.7125\\\\\n\t 1 &  7.5500\\\\\n\t 2 &  8.0500\\\\\n\t 3 & 16.1000\\\\\n\t 1 &  7.2500\\\\\n\t 2 &  8.6625\\\\\n\t 1 &  7.2500\\\\\n\t 2 &  9.5000\\\\\n\t 3 & 14.4542\\\\\n\t 3 & 14.4542\\\\\n\t 1 &  7.2250\\\\\n\t 1 &  7.2250\\\\\n\t 3 & 14.4583\\\\\n\t 3 & 14.4542\\\\\n\t 3 & 14.4542\\\\\n\t 1 &  7.2250\\\\\n\t 1 &  7.2250\\\\\n\t 1 &  7.8750\\\\\n\\end{tabular}\n",
            "text/plain": [
              "     data$fare_quantile data$fare\n",
              "1    4                  211.3375 \n",
              "2    4                  151.5500 \n",
              "3    4                  151.5500 \n",
              "4    4                  151.5500 \n",
              "5    4                  151.5500 \n",
              "6    3                   26.5500 \n",
              "7    4                   77.9583 \n",
              "8    1                    0.0000 \n",
              "9    4                   51.4792 \n",
              "10   4                   49.5042 \n",
              "11   4                  227.5250 \n",
              "12   4                  227.5250 \n",
              "13   4                   69.3000 \n",
              "14   4                   78.8500 \n",
              "15   3                   30.0000 \n",
              "16   3                   25.9250 \n",
              "17   4                  247.5208 \n",
              "18   4                  247.5208 \n",
              "19   4                   76.2917 \n",
              "20   4                   75.2417 \n",
              "21   4                   52.5542 \n",
              "22   4                   52.5542 \n",
              "23   3                   30.0000 \n",
              "24   4                  227.5250 \n",
              "25   4                  221.7792 \n",
              "26   3                   26.0000 \n",
              "27   4                   91.0792 \n",
              "28   4                   91.0792 \n",
              "29   4                  135.6333 \n",
              "30   3                   26.5500 \n",
              "⋮    ⋮                  ⋮        \n",
              "1280 1                   7.8542  \n",
              "1281 2                   7.8958  \n",
              "1282 2                   9.0000  \n",
              "1283 2                   8.0500  \n",
              "1284 1                   7.5500  \n",
              "1285 2                   8.0500  \n",
              "1286 2                   9.5000  \n",
              "1287 1                   7.2292  \n",
              "1288 1                   7.7500  \n",
              "1289 1                   6.4958  \n",
              "1290 1                   6.4958  \n",
              "1291 1                   7.0000  \n",
              "1292 2                   8.7125  \n",
              "1293 1                   7.5500  \n",
              "1294 2                   8.0500  \n",
              "1295 3                  16.1000  \n",
              "1296 1                   7.2500  \n",
              "1297 2                   8.6625  \n",
              "1298 1                   7.2500  \n",
              "1299 2                   9.5000  \n",
              "1300 3                  14.4542  \n",
              "1301 3                  14.4542  \n",
              "1302 1                   7.2250  \n",
              "1303 1                   7.2250  \n",
              "1304 3                  14.4583  \n",
              "1305 3                  14.4542  \n",
              "1306 3                  14.4542  \n",
              "1307 1                   7.2250  \n",
              "1308 1                   7.2250  \n",
              "1309 1                   7.8750  "
            ]
          },
          "metadata": {}
        }
      ],
      "source": [
        "data$fare_quantile <- findInterval(x = data$fare , quantile(data$fare,na.rm=TRUE))\n",
        "\n",
        "cbind.data.frame(data$fare_quantile, data$fare)"
      ]
    },
    {
      "cell_type": "markdown",
      "metadata": {
        "id": "OV2zq5RirQ0A"
      },
      "source": [
        "## Log transform\n",
        "You may want to consider log transformations of your variables (this is very standard in economics and finance). Takings logs may decrease the effect of outliers on our models and provide a natural interpretation of coefficients in percentage terms.\n",
        "\n",
        "Note that the log should be used with caution for negative or zero valued random variables (one may use log (abs(x+1)) plus a dummy for negative values, but in general this is a red flag)\n",
        "\n",
        "### Example\n",
        "Toy example with titanic dataset."
      ]
    },
    {
      "cell_type": "code",
      "execution_count": null,
      "metadata": {
        "colab": {
          "base_uri": "https://localhost:8080/",
          "height": 437
        },
        "id": "Mbclpv4O-lN2",
        "outputId": "3b9ea3ae-bc68-40da-f86e-ab7432db4edc"
      },
      "outputs": [
        {
          "output_type": "display_data",
          "data": {
            "text/plain": [
              "Plot with title “Fare”"
            ],
            "image/png": "[encoded data removed]"
          },
          "metadata": {
            "image/png": {
              "width": 420,
              "height": 420
            }
          }
        }
      ],
      "source": [
        "# We can look at the distribution of fares with a histogram\n",
        "hist(data$fare,col=rgb(0,0,0,1/2),main='Fare',breaks=20)\n",
        "grid()\n",
        "box()"
      ]
    },
    {
      "cell_type": "code",
      "execution_count": null,
      "metadata": {
        "colab": {
          "base_uri": "https://localhost:8080/",
          "height": 437
        },
        "id": "kkf_A9Rh-lN2",
        "outputId": "dd96cd6d-cc91-4d60-c580-935b0226f59f"
      },
      "outputs": [
        {
          "output_type": "display_data",
          "data": {
            "text/plain": [
              "Plot with title “Log Fare”"
            ],
            "image/png": "[encoded data removed]"
          },
          "metadata": {
            "image/png": {
              "width": 420,
              "height": 420
            }
          }
        }
      ],
      "source": [
        "# and construct the log of the fare\n",
        "data$log_fare = log(data$fare + 1) # to deal with the 0 values\n",
        "# Plot\n",
        "hist(data$log_fare, col=rgb(0,0,0,1/2),main='Log Fare',breaks=20)\n",
        "grid()\n",
        "box()\n"
      ]
    },
    {
      "cell_type": "markdown",
      "metadata": {
        "id": "daVHLqV_-lN2"
      },
      "source": [
        "## Scaling (Normalization/Standardization)\n",
        "\n",
        "We typically want variables to have, loosely speaking, a sensible scale.\n",
        "A few usual options are:\n",
        "\n",
        "+ Standardization: Removes the mean and scales to unit variance. This is the standard definition of scaling. After the transformation, all variables have the same mean (0) and variance (1).\n",
        "\n",
        "+ Robust: Similar to the standard but more robust to outliers. Removes the median and scales the data according to the quantile range (defaults to IQR: Interquartile Range). Note that now the output won't have a mean of 0 and a standard deviation of 1\n",
        "\n",
        "+ MinMax: Linear scaling to an output range, just considering the minimum and maximum. Just note that default range is (0,1). The output is not necessarily _well behaved_  and this is very sensible to outliers."
      ]
    },
    {
      "cell_type": "code",
      "execution_count": null,
      "metadata": {
        "id": "eJgidwvb-lN2"
      },
      "outputs": [],
      "source": [
        "data$fare_SS <- (data$fare - mean(data$fare,na.rm=TRUE) )/sd(data$fare,na.rm=TRUE)\n",
        "data$fare_RS <- (data$fare - median(data$fare,na.rm=TRUE) )/IQR(data$fare,na.rm=TRUE)\n",
        "data$fare_MM <- (data$fare - min(data$fare, na.rm = TRUE)) / (max(data$fare, na.rm = TRUE) - min(data$fare, na.rm = TRUE))"
      ]
    },
    {
      "cell_type": "code",
      "execution_count": null,
      "metadata": {
        "colab": {
          "base_uri": "https://localhost:8080/",
          "height": 34
        },
        "id": "25Iu1vZ6-lN2",
        "outputId": "64610d85-b929-43dd-c95f-262dc168c1ed"
      },
      "outputs": [
        {
          "output_type": "display_data",
          "data": {
            "text/html": [
              "<style>\n",
              ".dl-inline {width: auto; margin:0; padding: 0}\n",
              ".dl-inline>dt, .dl-inline>dd {float: none; width: auto; display: inline-block}\n",
              ".dl-inline>dt::after {content: \":\\0020\"; padding-right: .5ex}\n",
              ".dl-inline>dt:not(:first-of-type) {padding-left: .5ex}\n",
              "</style><dl class=dl-inline><dt>fare_SS</dt><dd>0</dd><dt>fare_RS</dt><dd>0.806</dd><dt>fare_MM</dt><dd>0.065</dd></dl>\n"
            ],
            "text/markdown": "fare_SS\n:   0fare_RS\n:   0.806fare_MM\n:   0.065\n\n",
            "text/latex": "\\begin{description*}\n\\item[fare\\textbackslash{}\\_SS] 0\n\\item[fare\\textbackslash{}\\_RS] 0.806\n\\item[fare\\textbackslash{}\\_MM] 0.065\n\\end{description*}\n",
            "text/plain": [
              "fare_SS fare_RS fare_MM \n",
              "  0.000   0.806   0.065 "
            ]
          },
          "metadata": {}
        }
      ],
      "source": [
        "round( colMeans(data[,which(colnames(data) %in% c('fare_SS','fare_RS','fare_MM'))],na.rm=TRUE),3)"
      ]
    },
    {
      "cell_type": "code",
      "execution_count": null,
      "metadata": {
        "colab": {
          "base_uri": "https://localhost:8080/",
          "height": 34
        },
        "id": "ATx8Q3rVrQ0A",
        "outputId": "bcebeb3f-f360-421a-c117-751e37c4513c"
      },
      "outputs": [
        {
          "output_type": "display_data",
          "data": {
            "text/html": [
              "<style>\n",
              ".dl-inline {width: auto; margin:0; padding: 0}\n",
              ".dl-inline>dt, .dl-inline>dd {float: none; width: auto; display: inline-block}\n",
              ".dl-inline>dt::after {content: \":\\0020\"; padding-right: .5ex}\n",
              ".dl-inline>dt:not(:first-of-type) {padding-left: .5ex}\n",
              "</style><dl class=dl-inline><dt>fare_SS</dt><dd>1</dd><dt>fare_RS</dt><dd>2.214</dd><dt>fare_MM</dt><dd>0.101</dd></dl>\n"
            ],
            "text/markdown": "fare_SS\n:   1fare_RS\n:   2.214fare_MM\n:   0.101\n\n",
            "text/latex": "\\begin{description*}\n\\item[fare\\textbackslash{}\\_SS] 1\n\\item[fare\\textbackslash{}\\_RS] 2.214\n\\item[fare\\textbackslash{}\\_MM] 0.101\n\\end{description*}\n",
            "text/plain": [
              "fare_SS fare_RS fare_MM \n",
              "  1.000   2.214   0.101 "
            ]
          },
          "metadata": {}
        }
      ],
      "source": [
        "round( apply(data[,which(colnames(data) %in% c('fare_SS','fare_RS','fare_MM'))],\n",
        "             FUN = function(x) sd(x,na.rm=TRUE),\n",
        "             MARGIN = 2),3)"
      ]
    },
    {
      "cell_type": "code",
      "execution_count": null,
      "metadata": {
        "colab": {
          "base_uri": "https://localhost:8080/",
          "height": 257
        },
        "id": "ajd5M4jN-lN3",
        "outputId": "2485584f-bac3-496f-bd49-694a561ba56e"
      },
      "outputs": [
        {
          "output_type": "display_data",
          "data": {
            "text/plain": [
              "Plot with title “Log Fare”"
            ],
            "image/png": "[encoded data removed]"
          },
          "metadata": {
            "image/png": {
              "width": 720,
              "height": 240
            }
          }
        }
      ],
      "source": [
        "options(repr.plot.width=12, repr.plot.height=4)\n",
        "\n",
        "par(mfrow=c(1,3))\n",
        "hist(data$fare_SS,col=rgb(0,0,1,1/2),main='Log Fare',breaks=20)\n",
        "grid()\n",
        "box()\n",
        "hist(data$fare_RS,col=rgb(1/2,0,1/2,1/2),main='Log Fare',breaks=20)\n",
        "grid()\n",
        "box()\n",
        "hist(data$fare_MM,col=rgb(1,0,0,1/2),main='Log Fare',breaks=20)\n",
        "grid()\n",
        "box()\n"
      ]
    },
    {
      "cell_type": "markdown",
      "metadata": {
        "id": "uM4FV5ze-lN3"
      },
      "source": [
        "## Feature Split\n",
        "\n",
        "Especially valid for categorical data. After data exploration, you may observe that there is some structure in your data that you may want to exploit. One way to do so would be to split the data using some heuristics.\n",
        "\n",
        "For example, for the titanic dataset, the *cabin* column has values such as B22, C12, A4, which indicates that it's probably worth to split into two (e.g. B+22, C+12, A+4) for a better representation of a spatial distribution of cabins. With hotel rooms, it may be similar (e.g. room 112 into 1(floor)+12(room number))."
      ]
    },
    {
      "cell_type": "code",
      "execution_count": null,
      "metadata": {
        "id": "y-tk3fA-hhmg"
      },
      "outputs": [],
      "source": [
        "data <- read.csv(\"https://github.com/barcelonagse-datascience/academic_files/raw/master/data/titanic3.csv\", stringsAsFactors = FALSE)"
      ]
    },
    {
      "cell_type": "code",
      "execution_count": null,
      "metadata": {
        "id": "N34Z79GKrQ0B"
      },
      "outputs": [],
      "source": [
        "head(data$cabin)"
      ]
    },
    {
      "cell_type": "code",
      "execution_count": null,
      "metadata": {
        "id": "-XEr4-YwrQ0B"
      },
      "outputs": [],
      "source": [
        "# Cabin has a few NAS, for simplicity of exposition, lets replace them with a clear NA string\n",
        "data$cabin[data$cabin==\"\"]  <- \"000000\""
      ]
    },
    {
      "cell_type": "code",
      "execution_count": null,
      "metadata": {
        "id": "ft5kyauorQ0B"
      },
      "outputs": [],
      "source": [
        "strsplit(data$cabin[2],\" \")"
      ]
    },
    {
      "cell_type": "code",
      "execution_count": null,
      "metadata": {
        "id": "W3-zELEW-lN3"
      },
      "outputs": [],
      "source": [
        "# Split cabin in two\n",
        "data$cabin_first <- sapply(1:nrow(data), function(w) strsplit(data$cabin[w],\" \")[[1]][1])\n",
        "data$cabin_first"
      ]
    },
    {
      "cell_type": "markdown",
      "metadata": {
        "id": "nsCc-oG0-lN3"
      },
      "source": [
        "## Date-time category extraction\n",
        "From a date input, it might be useful to extract features like *day of week*, *month*, *year*, etc.. These could be important if there is some seasonality related to those units of measure.  For example, dummies like *Holiday_period* or *Working_day* might be important.\n",
        "We will use the `lubridate` package to help us with that in the upcoming lectures.\n",
        "\n",
        "## Combine Sparse Classes\n",
        "When dealing with categories, you might test the frequency of certain classes, and group the less frequent classes, but making sure that their behavior is similar with respect to the target to predict.\n"
      ]
    },
    {
      "cell_type": "markdown",
      "metadata": {
        "id": "SgN-M4Vo-lN3"
      },
      "source": [
        "# Outlier detection\n",
        "\n",
        "Training our model on data that has *strange* observations may be misleading.\n",
        "\n",
        "That's why it might be important to remove or treat those observations from our training dataset. Also identifying those in the test set for prediction is important, because one should expect bad performance of our model on those.\n",
        "\n",
        "## Caution:\n",
        "Outliers should not *always* be thrown out. For instance, for economic time series, should we \"trim\" out the covid-19 crisis episode?"
      ]
    },
    {
      "cell_type": "markdown",
      "metadata": {
        "id": "plnVATHW-lN3"
      },
      "source": [
        "# Feature generation\n",
        "\n"
      ]
    },
    {
      "cell_type": "markdown",
      "metadata": {
        "id": "Evun7qum-lN3"
      },
      "source": [
        "## Create interaction features\n",
        "Linearity is a convenient modeling assumption, but it may be restrictive. It then becomes useful to consider interaction between features (or feature transformations) to capture relevant nonlinearities. We will see more about this in a bit.\n",
        "\n",
        "### Numerical features\n",
        "\n",
        "We may, for instance, consider polynomials of some inputs by raising them to a certain power. We may also consider cross-products of inputs (e.g. convert units sold to revenue by multiplying by prices), sums (e.g. if they are two subcategories), differences (e.g. difference in date) or ratios (e.g. students per professor) between two input features.\n",
        "\n",
        "If you don't scale your data, you can also create *ratios* or *differences* of features versus an average value.\n",
        "\n",
        "Alternatively, we may prefer methods that explicitly incorporates nonlinearties, such as *decision trees* or *neural networks*.\n",
        "\n",
        "## Adding domain knowledge\n",
        "This simple step basically consists of adding as features any relevant information that you may have about your data. Generally speaking, one can easily include some information as a dummy or category.\n",
        "\n",
        "Easiest example is adding 'events' to a time series, such as sovereign debt crisis, housing debt crisis etc. This helps the model to treat a subset of data in a different way.\n",
        "\n",
        "## Adding External data\n",
        "Not having a good understanding of the context of your prediction problem may lead you to miss some relevant factors that affect your outcome. This is a hint for you to complement your input data with external information that might be relevant.\n",
        "\n",
        "You may probably scrape data on internet to find this external data.\n",
        "\n",
        "Here some examples:\n",
        "+ Context Economic indicators (GDP, average salary, etc.), political indicators, social indicators, etc.\n",
        "+ Time series evolution/pattern of similar entities.\n",
        "+ Geographical info: From city, region info, obtain average position (UTM coordinates, latitude, longitude), so that you can identify neighbor observations (even add average features of close observations). The inverse also holds: from latitude/longitude or coordinates, compute not only features of neighbor observations, but also categories such as country, city, region, etc."
      ]
    },
    {
      "cell_type": "markdown",
      "metadata": {
        "id": "9fM2Hcezvqru"
      },
      "source": [
        "### Missing indicator: Don't lose information\n",
        "\n",
        "Add boolean columns to keep track of data that was originally missing.\n",
        "\n",
        "`\n",
        "dataframe$is_na_Column_Name = is.na(dataframe$Column_Name)\n",
        "`\n",
        "This preserves the information, and may be relevant particularly if the NA values are not randomly distributed.\n"
      ]
    },
    {
      "cell_type": "markdown",
      "metadata": {
        "id": "6gWKFT0lvqrv"
      },
      "source": [
        "### Time series imputation\n",
        "Filling gaps in time series is a particular case of handling missing data.\n",
        "Time series vary by nature, but there are a few common patterns.\n",
        "\n",
        "Often, there are missing values in the _beginning_ of the dataframe. A general solution here is to start analysis at a later date, when this is possible.\n",
        "\n",
        "Alternatively, there may be missing values in the _end_ of the dataframe due to some series being updated faster than others. A general solution here is to cut-off the last, say, couple of observations.\n",
        "\n",
        "More problematic cases happen when we have missing data in the _middle_ of the dataframe. If the missing data is randomly missing, a suggestion is to simply use the mean of the column. **However**, if the missing data is due to a particular event (say a stock market's circuit breakers), then the mean may be an overly optimistic value for the missing value, and care must be taken.\n",
        "\n",
        "In addition, interpolation may be used for time series as well."
      ]
    },
    {
      "cell_type": "markdown",
      "metadata": {
        "ein.tags": "worksheet-0",
        "id": "L86XUVNa-lN5"
      },
      "source": [
        "## References\n",
        "\n",
        "Casari, A., Zheng, A., 2018. *Feature Engineering for Machine Learning*. O'Reilly Media.\n",
        "\n",
        "Kuhn, M., Johnson, K. . 2019. [*Feature Engineering and Selection: A Practical Approach for Predictive Models*](http://www.feat.engineering/)\n",
        "\n"
      ]
    }
  ],
  "metadata": {
    "colab": {
      "provenance": [],
      "include_colab_link": true
    },
    "kernelspec": {
      "display_name": "R",
      "language": "R",
      "name": "ir"
    },
    "language_info": {
      "codemirror_mode": "r",
      "file_extension": ".r",
      "mimetype": "text/x-r-source",
      "name": "R",
      "pygments_lexer": "r",
      "version": "4.1.2"
    },
    "toc": {
      "base_numbering": 1,
      "nav_menu": {},
      "number_sections": false,
      "sideBar": true,
      "skip_h1_title": true,
      "title_cell": "Table of Contents",
      "title_sidebar": "Contents",
      "toc_cell": false,
      "toc_position": {},
      "toc_section_display": true,
      "toc_window_display": true
    }
  },
  "nbformat": 4,
  "nbformat_minor": 0
}